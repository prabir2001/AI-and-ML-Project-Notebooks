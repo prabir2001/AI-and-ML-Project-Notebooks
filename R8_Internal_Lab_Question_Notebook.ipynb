{
  "nbformat": 4,
  "nbformat_minor": 0,
  "metadata": {
    "accelerator": "GPU",
    "colab": {
      "name": "R8 Internal Lab Question Notebook.ipynb",
      "provenance": [],
      "collapsed_sections": []
    },
    "kernelspec": {
      "display_name": "Python 3",
      "name": "python3"
    }
  },
  "cells": [
    {
      "cell_type": "markdown",
      "metadata": {
        "id": "PHYs6Z84xV8E"
      },
      "source": [
        "<img src=\"http://drive.google.com/uc?export=view&id=1tpOCamr9aWz817atPnyXus8w5gJ3mIts\" width=500px>\n",
        "\n",
        "Proprietary content. © Great Learning. All Rights Reserved. Unauthorized use or distribution prohibited."
      ]
    },
    {
      "cell_type": "markdown",
      "metadata": {
        "id": "5QQxgAmWzSye"
      },
      "source": [
        "# Mobile Phone Review Analysis"
      ]
    },
    {
      "cell_type": "markdown",
      "metadata": {
        "id": "FbwHYUXhxaqD"
      },
      "source": [
        "## Context\n",
        "\n",
        "The product companies can utilize the detailed review comments to gather insights from the end user. Most of the products are sold via e-commerce sites like Flipkart or Amazon where customers can buy a product and give their review about the product on the web site. \n",
        "Product managers can identify the relevant reviews from the website and run a sentiment analysis tool to understand what the sentiments of the customer are. Based on their sentiments, they can identify what users think of the current product. Are they happy? Discontent? \n",
        "They can also come up with a document that lists the features, the team needs to focus on for making the product better. \n",
        "\n",
        "## Objective\n",
        "\n",
        "Given the review data rating label, we will try to get insights about various brands and their ratings using text analytics and build a model to predict the rating and overall sentiment. \n"
      ]
    },
    {
      "cell_type": "markdown",
      "metadata": {
        "id": "CI7usguRzeox"
      },
      "source": [
        "### Package version\n",
        "\n",
        "- tensorflow==2.3.0\n",
        "- scikit-learn==0.22.2.post1\n",
        "- pandas==1.0.5\n",
        "- numpy==1.18.5\n",
        "- matplotlib==3.2.2\n",
        "- google==2.0.3"
      ]
    },
    {
      "cell_type": "markdown",
      "metadata": {
        "id": "aiMdVjHRH7NR"
      },
      "source": [
        "### Data Dictionary \n",
        "\n",
        "product_data.csv - contains product details\n",
        "- 'asin',  - Product ASIN\n",
        "- 'brand', - Product Brand\n",
        "- 'title', - Product Title\n",
        "- 'url',  - Product URL\n",
        "- 'image', - Product Image URL\n",
        "- 'rating',- Product Avg. Rating\n",
        "- 'reviewUrl' - Product Review Page URL\n",
        "- 'totalReviews' - Product Total Reviews\n",
        "- ‘price’ - Product Price ($)\n",
        "- ‘originalPrice’ - Product Original Price ($)\n",
        " \n",
        "reviews.csv  - contains user review details\n",
        " \n",
        "- 'asin' - Product ASIN\n",
        "- 'name' - Reviewer Name\n",
        "- 'rating' - Reviewer Rating (scale 1 to 5)\n",
        "- 'date'  - Review Date\n",
        "- 'verified' - Valid Customer\n",
        "- 'title'  - Review Title\n",
        "- 'body'  - Review Content\n",
        "- 'helpfulVotes  - Helpful Feedbacks\n"
      ]
    },
    {
      "cell_type": "markdown",
      "metadata": {
        "id": "cEn52o8jznJK"
      },
      "source": [
        "## Table of Content\n",
        "\n",
        "1. Import Libraries\n",
        "\n",
        "2. Setting options\n",
        "\n",
        "3. Read Data\n",
        "\n",
        "4. Data Analysis and EDA\n",
        "\n",
        "5. Text preprocessing and Vectorization\n",
        "\n",
        "6. Model building\n",
        "\n",
        "7. Conclusion and Interpretation"
      ]
    },
    {
      "cell_type": "markdown",
      "metadata": {
        "id": "x_Lom6cXzqn7"
      },
      "source": [
        "## 1. Import Libraries"
      ]
    },
    {
      "cell_type": "markdown",
      "metadata": {
        "id": "FZtVstH8zre2"
      },
      "source": [
        "Let us start by mounting the drive"
      ]
    },
    {
      "cell_type": "code",
      "metadata": {
        "colab": {
          "base_uri": "https://localhost:8080/"
        },
        "id": "xv9jxv3-R5Xl",
        "outputId": "7d891882-f671-4730-e690-a75397a91ba3"
      },
      "source": [
        "from google.colab import drive\n",
        "drive.mount('/content/drive')"
      ],
      "execution_count": 1,
      "outputs": [
        {
          "output_type": "stream",
          "text": [
            "Mounted at /content/drive\n"
          ],
          "name": "stdout"
        }
      ]
    },
    {
      "cell_type": "markdown",
      "metadata": {
        "id": "Gv-tZoFjz2WD"
      },
      "source": [
        "Let us check for the version of installed tensorflow."
      ]
    },
    {
      "cell_type": "code",
      "metadata": {
        "colab": {
          "base_uri": "https://localhost:8080/"
        },
        "id": "eiuUVBuDzzn9",
        "outputId": "9be356be-8a83-4f94-ad40-cc7d0ae10d67"
      },
      "source": [
        "# used to supress display of warnings\n",
        "import warnings\n",
        "\n",
        "# os is used to provide a way of using operating system dependent functionality\n",
        "# We use it for setting working folder\n",
        "import os\n",
        "\n",
        "# Pandas is used for data manipulation and analysis\n",
        "import pandas as pd \n",
        "\n",
        "# Numpy is used for large, multi-dimensional arrays and matrices, along with mathematical operators on these arrays\n",
        "import numpy as np\n",
        "\n",
        "# Matplotlib is a data visualization library for 2D plots of arrays, built on NumPy arrays \n",
        "# and designed to work with the broader SciPy stack\n",
        "import matplotlib.pyplot as plt\n",
        "%matplotlib inline\n",
        "from matplotlib import pyplot\n",
        "import seaborn as sns\n",
        "\n",
        "# Seaborn is based on matplotlib, which aids in drawing attractive and informative statistical graphics.\n",
        "import seaborn as sns\n",
        "import tensorflow \n",
        "print(tensorflow.__version__)"
      ],
      "execution_count": 2,
      "outputs": [
        {
          "output_type": "stream",
          "text": [
            "2.4.1\n"
          ],
          "name": "stdout"
        }
      ]
    },
    {
      "cell_type": "markdown",
      "metadata": {
        "id": "fze-aokU0ukH"
      },
      "source": [
        "## 2. Setting Options"
      ]
    },
    {
      "cell_type": "code",
      "metadata": {
        "id": "T3FALggG0xXa"
      },
      "source": [
        "# suppress display of warnings\n",
        "warnings.filterwarnings('ignore')\n",
        "\n",
        "# display all dataframe columns\n",
        "pd.options.display.max_columns = None\n",
        "\n",
        "# to set the limit to 3 decimals\n",
        "pd.options.display.float_format = '{:.7f}'.format\n",
        "\n",
        "# display all dataframe rows\n",
        "pd.options.display.max_rows = None"
      ],
      "execution_count": 3,
      "outputs": []
    },
    {
      "cell_type": "markdown",
      "metadata": {
        "id": "ZT1P1WdK1vfZ"
      },
      "source": [
        "## 3. Read Data"
      ]
    },
    {
      "cell_type": "markdown",
      "metadata": {
        "id": "-UOW6zwww7L1"
      },
      "source": [
        "### 3.1 Read the provided CSVs and check 5 random samples and shape to understand the datasets"
      ]
    },
    {
      "cell_type": "code",
      "metadata": {
        "id": "nxT2g284xF1W"
      },
      "source": [
        "product_df= pd.read_csv(\"/content/drive/MyDrive/NLP LAB1/product_data.csv\")\n",
        "review_df = pd.read_csv(\"/content/drive/MyDrive/NLP LAB1/reviews.csv\")"
      ],
      "execution_count": 4,
      "outputs": []
    },
    {
      "cell_type": "code",
      "metadata": {
        "colab": {
          "base_uri": "https://localhost:8080/",
          "height": 666
        },
        "id": "GRjG44fRxGIq",
        "outputId": "8150227a-c649-410b-d211-599cf78026da"
      },
      "source": [
        "product_df.sample(5)"
      ],
      "execution_count": 5,
      "outputs": [
        {
          "output_type": "execute_result",
          "data": {
            "text/html": [
              "<div>\n",
              "<style scoped>\n",
              "    .dataframe tbody tr th:only-of-type {\n",
              "        vertical-align: middle;\n",
              "    }\n",
              "\n",
              "    .dataframe tbody tr th {\n",
              "        vertical-align: top;\n",
              "    }\n",
              "\n",
              "    .dataframe thead th {\n",
              "        text-align: right;\n",
              "    }\n",
              "</style>\n",
              "<table border=\"1\" class=\"dataframe\">\n",
              "  <thead>\n",
              "    <tr style=\"text-align: right;\">\n",
              "      <th></th>\n",
              "      <th>asin</th>\n",
              "      <th>brand</th>\n",
              "      <th>title</th>\n",
              "      <th>url</th>\n",
              "      <th>image</th>\n",
              "      <th>rating</th>\n",
              "      <th>reviewUrl</th>\n",
              "      <th>totalReviews</th>\n",
              "      <th>price</th>\n",
              "      <th>originalPrice</th>\n",
              "    </tr>\n",
              "  </thead>\n",
              "  <tbody>\n",
              "    <tr>\n",
              "      <th>63</th>\n",
              "      <td>B00JEHJMG8</td>\n",
              "      <td>Samsung</td>\n",
              "      <td>Samsung Galaxy S4 16GB SPH-L720 4G LTE Android...</td>\n",
              "      <td>https://www.amazon.com/Samsung-Galaxy-SPH-720T...</td>\n",
              "      <td>https://m.media-amazon.com/images/I/61Uy8S7wD9...</td>\n",
              "      <td>3.3000000</td>\n",
              "      <td>https://www.amazon.com/product-reviews/B00JEHJMG8</td>\n",
              "      <td>135</td>\n",
              "      <td>0.0000000</td>\n",
              "      <td>0.0000000</td>\n",
              "    </tr>\n",
              "    <tr>\n",
              "      <th>90</th>\n",
              "      <td>B00V7FXCZ2</td>\n",
              "      <td>Samsung</td>\n",
              "      <td>Samsung Galaxy S6, Black Sapphire 32GB (Verizo...</td>\n",
              "      <td>https://www.amazon.com/Samsung-Galaxy-S6-Sapph...</td>\n",
              "      <td>https://m.media-amazon.com/images/I/81Uvtgw9D9...</td>\n",
              "      <td>3.5000000</td>\n",
              "      <td>https://www.amazon.com/product-reviews/B00V7FXCZ2</td>\n",
              "      <td>1</td>\n",
              "      <td>0.0000000</td>\n",
              "      <td>0.0000000</td>\n",
              "    </tr>\n",
              "    <tr>\n",
              "      <th>699</th>\n",
              "      <td>B07YVGVQKL</td>\n",
              "      <td>Samsung</td>\n",
              "      <td>Samsung Galaxy A50 SM-A505G 128GB, Dual Sim, 6...</td>\n",
              "      <td>https://www.amazon.com/Samsung-SM-A505G-Infini...</td>\n",
              "      <td>https://m.media-amazon.com/images/I/51d6hsShnA...</td>\n",
              "      <td>3.3000000</td>\n",
              "      <td>https://www.amazon.com/product-reviews/B07YVGVQKL</td>\n",
              "      <td>7</td>\n",
              "      <td>285.9900000</td>\n",
              "      <td>0.0000000</td>\n",
              "    </tr>\n",
              "    <tr>\n",
              "      <th>416</th>\n",
              "      <td>B07FXRR28W</td>\n",
              "      <td>Samsung</td>\n",
              "      <td>Samsung Galaxy Note 5 SM-N920T 32GB Platinum G...</td>\n",
              "      <td>https://www.amazon.com/Samsung-Galaxy-Note-SM-...</td>\n",
              "      <td>https://m.media-amazon.com/images/I/71xJxyzDYa...</td>\n",
              "      <td>3.7000000</td>\n",
              "      <td>https://www.amazon.com/product-reviews/B07FXRR28W</td>\n",
              "      <td>9</td>\n",
              "      <td>344.9100000</td>\n",
              "      <td>0.0000000</td>\n",
              "    </tr>\n",
              "    <tr>\n",
              "      <th>301</th>\n",
              "      <td>B0766TPHSH</td>\n",
              "      <td>Google</td>\n",
              "      <td>Google Pixel 2 XL 64GB Unlocked GSM/CDMA 4G LT...</td>\n",
              "      <td>https://www.amazon.com/Google-Unlocked-Octa-Co...</td>\n",
              "      <td>https://m.media-amazon.com/images/I/81dXcgzgqk...</td>\n",
              "      <td>4.1000000</td>\n",
              "      <td>https://www.amazon.com/product-reviews/B0766TPHSH</td>\n",
              "      <td>153</td>\n",
              "      <td>409.8800000</td>\n",
              "      <td>0.0000000</td>\n",
              "    </tr>\n",
              "  </tbody>\n",
              "</table>\n",
              "</div>"
            ],
            "text/plain": [
              "           asin    brand                                              title  \\\n",
              "63   B00JEHJMG8  Samsung  Samsung Galaxy S4 16GB SPH-L720 4G LTE Android...   \n",
              "90   B00V7FXCZ2  Samsung  Samsung Galaxy S6, Black Sapphire 32GB (Verizo...   \n",
              "699  B07YVGVQKL  Samsung  Samsung Galaxy A50 SM-A505G 128GB, Dual Sim, 6...   \n",
              "416  B07FXRR28W  Samsung  Samsung Galaxy Note 5 SM-N920T 32GB Platinum G...   \n",
              "301  B0766TPHSH   Google  Google Pixel 2 XL 64GB Unlocked GSM/CDMA 4G LT...   \n",
              "\n",
              "                                                   url  \\\n",
              "63   https://www.amazon.com/Samsung-Galaxy-SPH-720T...   \n",
              "90   https://www.amazon.com/Samsung-Galaxy-S6-Sapph...   \n",
              "699  https://www.amazon.com/Samsung-SM-A505G-Infini...   \n",
              "416  https://www.amazon.com/Samsung-Galaxy-Note-SM-...   \n",
              "301  https://www.amazon.com/Google-Unlocked-Octa-Co...   \n",
              "\n",
              "                                                 image    rating  \\\n",
              "63   https://m.media-amazon.com/images/I/61Uy8S7wD9... 3.3000000   \n",
              "90   https://m.media-amazon.com/images/I/81Uvtgw9D9... 3.5000000   \n",
              "699  https://m.media-amazon.com/images/I/51d6hsShnA... 3.3000000   \n",
              "416  https://m.media-amazon.com/images/I/71xJxyzDYa... 3.7000000   \n",
              "301  https://m.media-amazon.com/images/I/81dXcgzgqk... 4.1000000   \n",
              "\n",
              "                                             reviewUrl  totalReviews  \\\n",
              "63   https://www.amazon.com/product-reviews/B00JEHJMG8           135   \n",
              "90   https://www.amazon.com/product-reviews/B00V7FXCZ2             1   \n",
              "699  https://www.amazon.com/product-reviews/B07YVGVQKL             7   \n",
              "416  https://www.amazon.com/product-reviews/B07FXRR28W             9   \n",
              "301  https://www.amazon.com/product-reviews/B0766TPHSH           153   \n",
              "\n",
              "          price  originalPrice  \n",
              "63    0.0000000      0.0000000  \n",
              "90    0.0000000      0.0000000  \n",
              "699 285.9900000      0.0000000  \n",
              "416 344.9100000      0.0000000  \n",
              "301 409.8800000      0.0000000  "
            ]
          },
          "metadata": {
            "tags": []
          },
          "execution_count": 5
        }
      ]
    },
    {
      "cell_type": "code",
      "metadata": {
        "colab": {
          "base_uri": "https://localhost:8080/",
          "height": 204
        },
        "id": "VV9_wpyaBRQA",
        "outputId": "be90e44f-8394-422b-a651-5e9ee791df88"
      },
      "source": [
        "review_df.sample(5)"
      ],
      "execution_count": 6,
      "outputs": [
        {
          "output_type": "execute_result",
          "data": {
            "text/html": [
              "<div>\n",
              "<style scoped>\n",
              "    .dataframe tbody tr th:only-of-type {\n",
              "        vertical-align: middle;\n",
              "    }\n",
              "\n",
              "    .dataframe tbody tr th {\n",
              "        vertical-align: top;\n",
              "    }\n",
              "\n",
              "    .dataframe thead th {\n",
              "        text-align: right;\n",
              "    }\n",
              "</style>\n",
              "<table border=\"1\" class=\"dataframe\">\n",
              "  <thead>\n",
              "    <tr style=\"text-align: right;\">\n",
              "      <th></th>\n",
              "      <th>asin</th>\n",
              "      <th>name</th>\n",
              "      <th>rating</th>\n",
              "      <th>date</th>\n",
              "      <th>verified</th>\n",
              "      <th>title</th>\n",
              "      <th>body</th>\n",
              "      <th>helpfulVotes</th>\n",
              "    </tr>\n",
              "  </thead>\n",
              "  <tbody>\n",
              "    <tr>\n",
              "      <th>19074</th>\n",
              "      <td>B018OMP8ES</td>\n",
              "      <td>C. Ramirez</td>\n",
              "      <td>2</td>\n",
              "      <td>June 23, 2018</td>\n",
              "      <td>True</td>\n",
              "      <td>Nice until the screen starts peeling.</td>\n",
              "      <td>The backing peels away from the top-left of th...</td>\n",
              "      <td>nan</td>\n",
              "    </tr>\n",
              "    <tr>\n",
              "      <th>37060</th>\n",
              "      <td>B072N3GKSM</td>\n",
              "      <td>casey</td>\n",
              "      <td>1</td>\n",
              "      <td>August 15, 2018</td>\n",
              "      <td>False</td>\n",
              "      <td>Good way to waste 399.00</td>\n",
              "      <td>I bought this in Feb. It was a great phone. Lo...</td>\n",
              "      <td>1.0000000</td>\n",
              "    </tr>\n",
              "    <tr>\n",
              "      <th>53124</th>\n",
              "      <td>B07HK4JNV1</td>\n",
              "      <td>Behomar R.</td>\n",
              "      <td>5</td>\n",
              "      <td>May 13, 2019</td>\n",
              "      <td>True</td>\n",
              "      <td>Excelente teléfono</td>\n",
              "      <td>Super feliz</td>\n",
              "      <td>nan</td>\n",
              "    </tr>\n",
              "    <tr>\n",
              "      <th>54157</th>\n",
              "      <td>B07J4Z9647</td>\n",
              "      <td>Amazon Customer</td>\n",
              "      <td>5</td>\n",
              "      <td>June 8, 2019</td>\n",
              "      <td>True</td>\n",
              "      <td>An actually steal</td>\n",
              "      <td>Buy this phone! It is so freaking cool. The fr...</td>\n",
              "      <td>nan</td>\n",
              "    </tr>\n",
              "    <tr>\n",
              "      <th>5838</th>\n",
              "      <td>B00CGIULGC</td>\n",
              "      <td>brian griffin</td>\n",
              "      <td>5</td>\n",
              "      <td>February 3, 2015</td>\n",
              "      <td>True</td>\n",
              "      <td>Five Stars</td>\n",
              "      <td>best phone and toughest over 2 years of abuse ...</td>\n",
              "      <td>nan</td>\n",
              "    </tr>\n",
              "  </tbody>\n",
              "</table>\n",
              "</div>"
            ],
            "text/plain": [
              "             asin             name  rating              date  verified  \\\n",
              "19074  B018OMP8ES       C. Ramirez       2     June 23, 2018      True   \n",
              "37060  B072N3GKSM            casey       1   August 15, 2018     False   \n",
              "53124  B07HK4JNV1       Behomar R.       5      May 13, 2019      True   \n",
              "54157  B07J4Z9647  Amazon Customer       5      June 8, 2019      True   \n",
              "5838   B00CGIULGC    brian griffin       5  February 3, 2015      True   \n",
              "\n",
              "                                       title  \\\n",
              "19074  Nice until the screen starts peeling.   \n",
              "37060               Good way to waste 399.00   \n",
              "53124                     Excelente teléfono   \n",
              "54157                      An actually steal   \n",
              "5838                              Five Stars   \n",
              "\n",
              "                                                    body  helpfulVotes  \n",
              "19074  The backing peels away from the top-left of th...           nan  \n",
              "37060  I bought this in Feb. It was a great phone. Lo...     1.0000000  \n",
              "53124                                        Super feliz           nan  \n",
              "54157  Buy this phone! It is so freaking cool. The fr...           nan  \n",
              "5838   best phone and toughest over 2 years of abuse ...           nan  "
            ]
          },
          "metadata": {
            "tags": []
          },
          "execution_count": 6
        }
      ]
    },
    {
      "cell_type": "markdown",
      "metadata": {
        "id": "rED6DbDBKTjM"
      },
      "source": [
        "## 4.  Data Analysis and EDA"
      ]
    },
    {
      "cell_type": "markdown",
      "metadata": {
        "id": "awlqmp40xMfc"
      },
      "source": [
        "### 4.1 Drop unnecessary columns like 'url', 'image' from the product_data"
      ]
    },
    {
      "cell_type": "code",
      "metadata": {
        "colab": {
          "base_uri": "https://localhost:8080/",
          "height": 204
        },
        "id": "VT4d-6TCxZCm",
        "outputId": "3dd8e539-5b3d-4ad4-a34c-d9e903a193ae"
      },
      "source": [
        "product_df.drop(['url','image','reviewUrl'],axis=1,inplace = True)\n",
        "product_df.head()"
      ],
      "execution_count": 7,
      "outputs": [
        {
          "output_type": "execute_result",
          "data": {
            "text/html": [
              "<div>\n",
              "<style scoped>\n",
              "    .dataframe tbody tr th:only-of-type {\n",
              "        vertical-align: middle;\n",
              "    }\n",
              "\n",
              "    .dataframe tbody tr th {\n",
              "        vertical-align: top;\n",
              "    }\n",
              "\n",
              "    .dataframe thead th {\n",
              "        text-align: right;\n",
              "    }\n",
              "</style>\n",
              "<table border=\"1\" class=\"dataframe\">\n",
              "  <thead>\n",
              "    <tr style=\"text-align: right;\">\n",
              "      <th></th>\n",
              "      <th>asin</th>\n",
              "      <th>brand</th>\n",
              "      <th>title</th>\n",
              "      <th>rating</th>\n",
              "      <th>totalReviews</th>\n",
              "      <th>price</th>\n",
              "      <th>originalPrice</th>\n",
              "    </tr>\n",
              "  </thead>\n",
              "  <tbody>\n",
              "    <tr>\n",
              "      <th>0</th>\n",
              "      <td>B0000SX2UC</td>\n",
              "      <td>NaN</td>\n",
              "      <td>Dual-Band / Tri-Mode Sprint PCS Phone w/ Voice...</td>\n",
              "      <td>3.0000000</td>\n",
              "      <td>14</td>\n",
              "      <td>0.0000000</td>\n",
              "      <td>0.0000000</td>\n",
              "    </tr>\n",
              "    <tr>\n",
              "      <th>1</th>\n",
              "      <td>B0009N5L7K</td>\n",
              "      <td>Motorola</td>\n",
              "      <td>Motorola I265 phone</td>\n",
              "      <td>3.0000000</td>\n",
              "      <td>7</td>\n",
              "      <td>49.9500000</td>\n",
              "      <td>0.0000000</td>\n",
              "    </tr>\n",
              "    <tr>\n",
              "      <th>2</th>\n",
              "      <td>B000SKTZ0S</td>\n",
              "      <td>Motorola</td>\n",
              "      <td>MOTOROLA C168i AT&amp;T CINGULAR PREPAID GOPHONE C...</td>\n",
              "      <td>2.7000000</td>\n",
              "      <td>22</td>\n",
              "      <td>99.9900000</td>\n",
              "      <td>0.0000000</td>\n",
              "    </tr>\n",
              "    <tr>\n",
              "      <th>3</th>\n",
              "      <td>B001AO4OUC</td>\n",
              "      <td>Motorola</td>\n",
              "      <td>Motorola i335 Cell Phone Boost Mobile</td>\n",
              "      <td>3.3000000</td>\n",
              "      <td>21</td>\n",
              "      <td>0.0000000</td>\n",
              "      <td>0.0000000</td>\n",
              "    </tr>\n",
              "    <tr>\n",
              "      <th>4</th>\n",
              "      <td>B001DCJAJG</td>\n",
              "      <td>Motorola</td>\n",
              "      <td>Motorola V365 no contract cellular phone AT&amp;T</td>\n",
              "      <td>3.1000000</td>\n",
              "      <td>12</td>\n",
              "      <td>149.9900000</td>\n",
              "      <td>0.0000000</td>\n",
              "    </tr>\n",
              "  </tbody>\n",
              "</table>\n",
              "</div>"
            ],
            "text/plain": [
              "         asin     brand                                              title  \\\n",
              "0  B0000SX2UC       NaN  Dual-Band / Tri-Mode Sprint PCS Phone w/ Voice...   \n",
              "1  B0009N5L7K  Motorola                                Motorola I265 phone   \n",
              "2  B000SKTZ0S  Motorola  MOTOROLA C168i AT&T CINGULAR PREPAID GOPHONE C...   \n",
              "3  B001AO4OUC  Motorola              Motorola i335 Cell Phone Boost Mobile   \n",
              "4  B001DCJAJG  Motorola      Motorola V365 no contract cellular phone AT&T   \n",
              "\n",
              "     rating  totalReviews       price  originalPrice  \n",
              "0 3.0000000            14   0.0000000      0.0000000  \n",
              "1 3.0000000             7  49.9500000      0.0000000  \n",
              "2 2.7000000            22  99.9900000      0.0000000  \n",
              "3 3.3000000            21   0.0000000      0.0000000  \n",
              "4 3.1000000            12 149.9900000      0.0000000  "
            ]
          },
          "metadata": {
            "tags": []
          },
          "execution_count": 7
        }
      ]
    },
    {
      "cell_type": "code",
      "metadata": {
        "colab": {
          "base_uri": "https://localhost:8080/",
          "height": 204
        },
        "id": "FHb2AGTXDlX1",
        "outputId": "322820e1-8fb3-4ff0-b814-04f98b1be9ae"
      },
      "source": [
        "review_df.drop(['date','name'],axis=1,inplace = True)\n",
        "review_df.head()"
      ],
      "execution_count": 8,
      "outputs": [
        {
          "output_type": "execute_result",
          "data": {
            "text/html": [
              "<div>\n",
              "<style scoped>\n",
              "    .dataframe tbody tr th:only-of-type {\n",
              "        vertical-align: middle;\n",
              "    }\n",
              "\n",
              "    .dataframe tbody tr th {\n",
              "        vertical-align: top;\n",
              "    }\n",
              "\n",
              "    .dataframe thead th {\n",
              "        text-align: right;\n",
              "    }\n",
              "</style>\n",
              "<table border=\"1\" class=\"dataframe\">\n",
              "  <thead>\n",
              "    <tr style=\"text-align: right;\">\n",
              "      <th></th>\n",
              "      <th>asin</th>\n",
              "      <th>rating</th>\n",
              "      <th>verified</th>\n",
              "      <th>title</th>\n",
              "      <th>body</th>\n",
              "      <th>helpfulVotes</th>\n",
              "    </tr>\n",
              "  </thead>\n",
              "  <tbody>\n",
              "    <tr>\n",
              "      <th>0</th>\n",
              "      <td>B0000SX2UC</td>\n",
              "      <td>3</td>\n",
              "      <td>False</td>\n",
              "      <td>Def not best, but not worst</td>\n",
              "      <td>I had the Samsung A600 for awhile which is abs...</td>\n",
              "      <td>1.0000000</td>\n",
              "    </tr>\n",
              "    <tr>\n",
              "      <th>1</th>\n",
              "      <td>B0000SX2UC</td>\n",
              "      <td>1</td>\n",
              "      <td>False</td>\n",
              "      <td>Text Messaging Doesn't Work</td>\n",
              "      <td>Due to a software issue between Nokia and Spri...</td>\n",
              "      <td>17.0000000</td>\n",
              "    </tr>\n",
              "    <tr>\n",
              "      <th>2</th>\n",
              "      <td>B0000SX2UC</td>\n",
              "      <td>5</td>\n",
              "      <td>False</td>\n",
              "      <td>Love This Phone</td>\n",
              "      <td>This is a great, reliable phone. I also purcha...</td>\n",
              "      <td>5.0000000</td>\n",
              "    </tr>\n",
              "    <tr>\n",
              "      <th>3</th>\n",
              "      <td>B0000SX2UC</td>\n",
              "      <td>3</td>\n",
              "      <td>False</td>\n",
              "      <td>Love the Phone, BUT...!</td>\n",
              "      <td>I love the phone and all, because I really did...</td>\n",
              "      <td>1.0000000</td>\n",
              "    </tr>\n",
              "    <tr>\n",
              "      <th>4</th>\n",
              "      <td>B0000SX2UC</td>\n",
              "      <td>4</td>\n",
              "      <td>False</td>\n",
              "      <td>Great phone service and options, lousy case!</td>\n",
              "      <td>The phone has been great for every purpose it ...</td>\n",
              "      <td>1.0000000</td>\n",
              "    </tr>\n",
              "  </tbody>\n",
              "</table>\n",
              "</div>"
            ],
            "text/plain": [
              "         asin  rating  verified                                         title  \\\n",
              "0  B0000SX2UC       3     False                   Def not best, but not worst   \n",
              "1  B0000SX2UC       1     False                   Text Messaging Doesn't Work   \n",
              "2  B0000SX2UC       5     False                               Love This Phone   \n",
              "3  B0000SX2UC       3     False                       Love the Phone, BUT...!   \n",
              "4  B0000SX2UC       4     False  Great phone service and options, lousy case!   \n",
              "\n",
              "                                                body  helpfulVotes  \n",
              "0  I had the Samsung A600 for awhile which is abs...     1.0000000  \n",
              "1  Due to a software issue between Nokia and Spri...    17.0000000  \n",
              "2  This is a great, reliable phone. I also purcha...     5.0000000  \n",
              "3  I love the phone and all, because I really did...     1.0000000  \n",
              "4  The phone has been great for every purpose it ...     1.0000000  "
            ]
          },
          "metadata": {
            "tags": []
          },
          "execution_count": 8
        }
      ]
    },
    {
      "cell_type": "code",
      "metadata": {
        "id": "_t8oZIozEOK6"
      },
      "source": [
        ""
      ],
      "execution_count": 8,
      "outputs": []
    },
    {
      "cell_type": "markdown",
      "metadata": {
        "id": "Zk0WW5D5xZK9"
      },
      "source": [
        "### 4.2 Check statistical summary of both datasets. Note:- Include both numerical and object type columns."
      ]
    },
    {
      "cell_type": "code",
      "metadata": {
        "colab": {
          "base_uri": "https://localhost:8080/"
        },
        "id": "aeh_nDwVEukh",
        "outputId": "ccfe3ea7-8e1f-4ac4-fdd4-fd83951b17ff"
      },
      "source": [
        "product_df.info()"
      ],
      "execution_count": 9,
      "outputs": [
        {
          "output_type": "stream",
          "text": [
            "<class 'pandas.core.frame.DataFrame'>\n",
            "RangeIndex: 720 entries, 0 to 719\n",
            "Data columns (total 7 columns):\n",
            " #   Column         Non-Null Count  Dtype  \n",
            "---  ------         --------------  -----  \n",
            " 0   asin           720 non-null    object \n",
            " 1   brand          716 non-null    object \n",
            " 2   title          720 non-null    object \n",
            " 3   rating         720 non-null    float64\n",
            " 4   totalReviews   720 non-null    int64  \n",
            " 5   price          720 non-null    float64\n",
            " 6   originalPrice  720 non-null    float64\n",
            "dtypes: float64(3), int64(1), object(3)\n",
            "memory usage: 39.5+ KB\n"
          ],
          "name": "stdout"
        }
      ]
    },
    {
      "cell_type": "code",
      "metadata": {
        "colab": {
          "base_uri": "https://localhost:8080/"
        },
        "id": "ylwcqQpcx_Tl",
        "outputId": "22efa473-5994-40f1-993a-c782eda31397"
      },
      "source": [
        "product_df.shape"
      ],
      "execution_count": 10,
      "outputs": [
        {
          "output_type": "execute_result",
          "data": {
            "text/plain": [
              "(720, 7)"
            ]
          },
          "metadata": {
            "tags": []
          },
          "execution_count": 10
        }
      ]
    },
    {
      "cell_type": "code",
      "metadata": {
        "colab": {
          "base_uri": "https://localhost:8080/",
          "height": 283
        },
        "id": "_Aj8nGw0FhlE",
        "outputId": "78ca0e2e-6ca9-44ac-ceb6-1415e91e93b1"
      },
      "source": [
        "product_df.describe(include= 'all').T"
      ],
      "execution_count": 11,
      "outputs": [
        {
          "output_type": "execute_result",
          "data": {
            "text/html": [
              "<div>\n",
              "<style scoped>\n",
              "    .dataframe tbody tr th:only-of-type {\n",
              "        vertical-align: middle;\n",
              "    }\n",
              "\n",
              "    .dataframe tbody tr th {\n",
              "        vertical-align: top;\n",
              "    }\n",
              "\n",
              "    .dataframe thead th {\n",
              "        text-align: right;\n",
              "    }\n",
              "</style>\n",
              "<table border=\"1\" class=\"dataframe\">\n",
              "  <thead>\n",
              "    <tr style=\"text-align: right;\">\n",
              "      <th></th>\n",
              "      <th>count</th>\n",
              "      <th>unique</th>\n",
              "      <th>top</th>\n",
              "      <th>freq</th>\n",
              "      <th>mean</th>\n",
              "      <th>std</th>\n",
              "      <th>min</th>\n",
              "      <th>25%</th>\n",
              "      <th>50%</th>\n",
              "      <th>75%</th>\n",
              "      <th>max</th>\n",
              "    </tr>\n",
              "  </thead>\n",
              "  <tbody>\n",
              "    <tr>\n",
              "      <th>asin</th>\n",
              "      <td>720</td>\n",
              "      <td>720</td>\n",
              "      <td>B06XZPNYL7</td>\n",
              "      <td>1</td>\n",
              "      <td>NaN</td>\n",
              "      <td>NaN</td>\n",
              "      <td>NaN</td>\n",
              "      <td>NaN</td>\n",
              "      <td>NaN</td>\n",
              "      <td>NaN</td>\n",
              "      <td>NaN</td>\n",
              "    </tr>\n",
              "    <tr>\n",
              "      <th>brand</th>\n",
              "      <td>716</td>\n",
              "      <td>10</td>\n",
              "      <td>Samsung</td>\n",
              "      <td>346</td>\n",
              "      <td>NaN</td>\n",
              "      <td>NaN</td>\n",
              "      <td>NaN</td>\n",
              "      <td>NaN</td>\n",
              "      <td>NaN</td>\n",
              "      <td>NaN</td>\n",
              "      <td>NaN</td>\n",
              "    </tr>\n",
              "    <tr>\n",
              "      <th>title</th>\n",
              "      <td>720</td>\n",
              "      <td>718</td>\n",
              "      <td>Google Pixel 2 XL 128GB Unlocked GSM/CDMA 4G L...</td>\n",
              "      <td>2</td>\n",
              "      <td>NaN</td>\n",
              "      <td>NaN</td>\n",
              "      <td>NaN</td>\n",
              "      <td>NaN</td>\n",
              "      <td>NaN</td>\n",
              "      <td>NaN</td>\n",
              "      <td>NaN</td>\n",
              "    </tr>\n",
              "    <tr>\n",
              "      <th>rating</th>\n",
              "      <td>720.0000000</td>\n",
              "      <td>NaN</td>\n",
              "      <td>NaN</td>\n",
              "      <td>NaN</td>\n",
              "      <td>3.7137500</td>\n",
              "      <td>0.7160138</td>\n",
              "      <td>1.0000000</td>\n",
              "      <td>3.3000000</td>\n",
              "      <td>3.8000000</td>\n",
              "      <td>4.1000000</td>\n",
              "      <td>5.0000000</td>\n",
              "    </tr>\n",
              "    <tr>\n",
              "      <th>totalReviews</th>\n",
              "      <td>720.0000000</td>\n",
              "      <td>NaN</td>\n",
              "      <td>NaN</td>\n",
              "      <td>NaN</td>\n",
              "      <td>105.6791667</td>\n",
              "      <td>167.6011014</td>\n",
              "      <td>1.0000000</td>\n",
              "      <td>7.0000000</td>\n",
              "      <td>32.0000000</td>\n",
              "      <td>122.2500000</td>\n",
              "      <td>983.0000000</td>\n",
              "    </tr>\n",
              "    <tr>\n",
              "      <th>price</th>\n",
              "      <td>720.0000000</td>\n",
              "      <td>NaN</td>\n",
              "      <td>NaN</td>\n",
              "      <td>NaN</td>\n",
              "      <td>234.9489306</td>\n",
              "      <td>200.0084407</td>\n",
              "      <td>0.0000000</td>\n",
              "      <td>97.5125000</td>\n",
              "      <td>188.9750000</td>\n",
              "      <td>336.7250000</td>\n",
              "      <td>999.9900000</td>\n",
              "    </tr>\n",
              "    <tr>\n",
              "      <th>originalPrice</th>\n",
              "      <td>720.0000000</td>\n",
              "      <td>NaN</td>\n",
              "      <td>NaN</td>\n",
              "      <td>NaN</td>\n",
              "      <td>63.6907778</td>\n",
              "      <td>172.4053696</td>\n",
              "      <td>0.0000000</td>\n",
              "      <td>0.0000000</td>\n",
              "      <td>0.0000000</td>\n",
              "      <td>0.0000000</td>\n",
              "      <td>999.9900000</td>\n",
              "    </tr>\n",
              "  </tbody>\n",
              "</table>\n",
              "</div>"
            ],
            "text/plain": [
              "                    count unique  \\\n",
              "asin                  720    720   \n",
              "brand                 716     10   \n",
              "title                 720    718   \n",
              "rating        720.0000000    NaN   \n",
              "totalReviews  720.0000000    NaN   \n",
              "price         720.0000000    NaN   \n",
              "originalPrice 720.0000000    NaN   \n",
              "\n",
              "                                                             top freq  \\\n",
              "asin                                                  B06XZPNYL7    1   \n",
              "brand                                                    Samsung  346   \n",
              "title          Google Pixel 2 XL 128GB Unlocked GSM/CDMA 4G L...    2   \n",
              "rating                                                       NaN  NaN   \n",
              "totalReviews                                                 NaN  NaN   \n",
              "price                                                        NaN  NaN   \n",
              "originalPrice                                                NaN  NaN   \n",
              "\n",
              "                     mean         std       min        25%         50%  \\\n",
              "asin                  NaN         NaN       NaN        NaN         NaN   \n",
              "brand                 NaN         NaN       NaN        NaN         NaN   \n",
              "title                 NaN         NaN       NaN        NaN         NaN   \n",
              "rating          3.7137500   0.7160138 1.0000000  3.3000000   3.8000000   \n",
              "totalReviews  105.6791667 167.6011014 1.0000000  7.0000000  32.0000000   \n",
              "price         234.9489306 200.0084407 0.0000000 97.5125000 188.9750000   \n",
              "originalPrice  63.6907778 172.4053696 0.0000000  0.0000000   0.0000000   \n",
              "\n",
              "                      75%         max  \n",
              "asin                  NaN         NaN  \n",
              "brand                 NaN         NaN  \n",
              "title                 NaN         NaN  \n",
              "rating          4.1000000   5.0000000  \n",
              "totalReviews  122.2500000 983.0000000  \n",
              "price         336.7250000 999.9900000  \n",
              "originalPrice   0.0000000 999.9900000  "
            ]
          },
          "metadata": {
            "tags": []
          },
          "execution_count": 11
        }
      ]
    },
    {
      "cell_type": "code",
      "metadata": {
        "colab": {
          "base_uri": "https://localhost:8080/"
        },
        "id": "AHwsXt7-E15g",
        "outputId": "b4aaf392-ae20-479a-90ee-7bafe4f07cec"
      },
      "source": [
        "review_df.info()"
      ],
      "execution_count": 12,
      "outputs": [
        {
          "output_type": "stream",
          "text": [
            "<class 'pandas.core.frame.DataFrame'>\n",
            "RangeIndex: 67986 entries, 0 to 67985\n",
            "Data columns (total 6 columns):\n",
            " #   Column        Non-Null Count  Dtype  \n",
            "---  ------        --------------  -----  \n",
            " 0   asin          67986 non-null  object \n",
            " 1   rating        67986 non-null  int64  \n",
            " 2   verified      67986 non-null  bool   \n",
            " 3   title         67972 non-null  object \n",
            " 4   body          67965 non-null  object \n",
            " 5   helpfulVotes  27215 non-null  float64\n",
            "dtypes: bool(1), float64(1), int64(1), object(3)\n",
            "memory usage: 2.7+ MB\n"
          ],
          "name": "stdout"
        }
      ]
    },
    {
      "cell_type": "code",
      "metadata": {
        "colab": {
          "base_uri": "https://localhost:8080/"
        },
        "id": "xds1GApsCpnr",
        "outputId": "cd2dac1f-a29f-4a76-b1ce-9d12f647130e"
      },
      "source": [
        "review_df.shape"
      ],
      "execution_count": 13,
      "outputs": [
        {
          "output_type": "execute_result",
          "data": {
            "text/plain": [
              "(67986, 6)"
            ]
          },
          "metadata": {
            "tags": []
          },
          "execution_count": 13
        }
      ]
    },
    {
      "cell_type": "code",
      "metadata": {
        "colab": {
          "base_uri": "https://localhost:8080/",
          "height": 235
        },
        "id": "zuZO5Rw2Cpqa",
        "outputId": "14e84de2-e568-427f-a606-50a058a8c609"
      },
      "source": [
        "review_df.describe(include= 'all').T"
      ],
      "execution_count": 14,
      "outputs": [
        {
          "output_type": "execute_result",
          "data": {
            "text/html": [
              "<div>\n",
              "<style scoped>\n",
              "    .dataframe tbody tr th:only-of-type {\n",
              "        vertical-align: middle;\n",
              "    }\n",
              "\n",
              "    .dataframe tbody tr th {\n",
              "        vertical-align: top;\n",
              "    }\n",
              "\n",
              "    .dataframe thead th {\n",
              "        text-align: right;\n",
              "    }\n",
              "</style>\n",
              "<table border=\"1\" class=\"dataframe\">\n",
              "  <thead>\n",
              "    <tr style=\"text-align: right;\">\n",
              "      <th></th>\n",
              "      <th>count</th>\n",
              "      <th>unique</th>\n",
              "      <th>top</th>\n",
              "      <th>freq</th>\n",
              "      <th>mean</th>\n",
              "      <th>std</th>\n",
              "      <th>min</th>\n",
              "      <th>25%</th>\n",
              "      <th>50%</th>\n",
              "      <th>75%</th>\n",
              "      <th>max</th>\n",
              "    </tr>\n",
              "  </thead>\n",
              "  <tbody>\n",
              "    <tr>\n",
              "      <th>asin</th>\n",
              "      <td>67986</td>\n",
              "      <td>720</td>\n",
              "      <td>B00F2SKPIM</td>\n",
              "      <td>981</td>\n",
              "      <td>NaN</td>\n",
              "      <td>NaN</td>\n",
              "      <td>NaN</td>\n",
              "      <td>NaN</td>\n",
              "      <td>NaN</td>\n",
              "      <td>NaN</td>\n",
              "      <td>NaN</td>\n",
              "    </tr>\n",
              "    <tr>\n",
              "      <th>rating</th>\n",
              "      <td>67986.0000000</td>\n",
              "      <td>NaN</td>\n",
              "      <td>NaN</td>\n",
              "      <td>NaN</td>\n",
              "      <td>3.8079163</td>\n",
              "      <td>1.5829058</td>\n",
              "      <td>1.0000000</td>\n",
              "      <td>3.0000000</td>\n",
              "      <td>5.0000000</td>\n",
              "      <td>5.0000000</td>\n",
              "      <td>5.0000000</td>\n",
              "    </tr>\n",
              "    <tr>\n",
              "      <th>verified</th>\n",
              "      <td>67986</td>\n",
              "      <td>2</td>\n",
              "      <td>True</td>\n",
              "      <td>61225</td>\n",
              "      <td>NaN</td>\n",
              "      <td>NaN</td>\n",
              "      <td>NaN</td>\n",
              "      <td>NaN</td>\n",
              "      <td>NaN</td>\n",
              "      <td>NaN</td>\n",
              "      <td>NaN</td>\n",
              "    </tr>\n",
              "    <tr>\n",
              "      <th>title</th>\n",
              "      <td>67972</td>\n",
              "      <td>41489</td>\n",
              "      <td>Five Stars</td>\n",
              "      <td>6043</td>\n",
              "      <td>NaN</td>\n",
              "      <td>NaN</td>\n",
              "      <td>NaN</td>\n",
              "      <td>NaN</td>\n",
              "      <td>NaN</td>\n",
              "      <td>NaN</td>\n",
              "      <td>NaN</td>\n",
              "    </tr>\n",
              "    <tr>\n",
              "      <th>body</th>\n",
              "      <td>67965</td>\n",
              "      <td>59811</td>\n",
              "      <td>Good</td>\n",
              "      <td>303</td>\n",
              "      <td>NaN</td>\n",
              "      <td>NaN</td>\n",
              "      <td>NaN</td>\n",
              "      <td>NaN</td>\n",
              "      <td>NaN</td>\n",
              "      <td>NaN</td>\n",
              "      <td>NaN</td>\n",
              "    </tr>\n",
              "    <tr>\n",
              "      <th>helpfulVotes</th>\n",
              "      <td>27215.0000000</td>\n",
              "      <td>NaN</td>\n",
              "      <td>NaN</td>\n",
              "      <td>NaN</td>\n",
              "      <td>8.2296895</td>\n",
              "      <td>31.9548772</td>\n",
              "      <td>1.0000000</td>\n",
              "      <td>1.0000000</td>\n",
              "      <td>2.0000000</td>\n",
              "      <td>5.0000000</td>\n",
              "      <td>990.0000000</td>\n",
              "    </tr>\n",
              "  </tbody>\n",
              "</table>\n",
              "</div>"
            ],
            "text/plain": [
              "                     count unique         top   freq      mean        std  \\\n",
              "asin                 67986    720  B00F2SKPIM    981       NaN        NaN   \n",
              "rating       67986.0000000    NaN         NaN    NaN 3.8079163  1.5829058   \n",
              "verified             67986      2        True  61225       NaN        NaN   \n",
              "title                67972  41489  Five Stars   6043       NaN        NaN   \n",
              "body                 67965  59811        Good    303       NaN        NaN   \n",
              "helpfulVotes 27215.0000000    NaN         NaN    NaN 8.2296895 31.9548772   \n",
              "\n",
              "                   min       25%       50%       75%         max  \n",
              "asin               NaN       NaN       NaN       NaN         NaN  \n",
              "rating       1.0000000 3.0000000 5.0000000 5.0000000   5.0000000  \n",
              "verified           NaN       NaN       NaN       NaN         NaN  \n",
              "title              NaN       NaN       NaN       NaN         NaN  \n",
              "body               NaN       NaN       NaN       NaN         NaN  \n",
              "helpfulVotes 1.0000000 1.0000000 2.0000000 5.0000000 990.0000000  "
            ]
          },
          "metadata": {
            "tags": []
          },
          "execution_count": 14
        }
      ]
    },
    {
      "cell_type": "markdown",
      "metadata": {
        "id": "cSdGfadUyEdU"
      },
      "source": [
        "### 4.3 From the above statistical summary, write inferences like count of unique products, top brand, top title, range of rating, price range, etc"
      ]
    },
    {
      "cell_type": "markdown",
      "metadata": {
        "id": "egU6wK4TInGZ"
      },
      "source": [
        "From the product_df summary we can see that\n",
        "* Number of Unique Products is 720\n",
        "* Top Brand is Samsung\n",
        "* Top Title is \"Apple iPhone 6S, 64GB, Rose Gold - For AT&T\"\n",
        "* Range of Rating is 1 to 5\n",
        "* Price range 0 to 999.99\n"
      ]
    },
    {
      "cell_type": "code",
      "metadata": {
        "colab": {
          "base_uri": "https://localhost:8080/"
        },
        "id": "NhuWdxapKMRw",
        "outputId": "8c50c809-561d-4499-d704-d14c2721de1a"
      },
      "source": [
        "product_df['brand'].value_counts()"
      ],
      "execution_count": 15,
      "outputs": [
        {
          "output_type": "execute_result",
          "data": {
            "text/plain": [
              "Samsung     346\n",
              "Motorola    105\n",
              "Apple        63\n",
              "Xiaomi       46\n",
              "Nokia        44\n",
              "Google       38\n",
              "HUAWEI       32\n",
              "Sony         27\n",
              "OnePlus      10\n",
              "ASUS          5\n",
              "Name: brand, dtype: int64"
            ]
          },
          "metadata": {
            "tags": []
          },
          "execution_count": 15
        }
      ]
    },
    {
      "cell_type": "code",
      "metadata": {
        "id": "O6EuINgMN5sd"
      },
      "source": [
        "# Title of most helpful review\n",
        "#review_df[review_df.helpfulVotes == review_df['helpfulVotes'].max()].title"
      ],
      "execution_count": 16,
      "outputs": []
    },
    {
      "cell_type": "markdown",
      "metadata": {
        "id": "XMv_hXyxJKZK"
      },
      "source": [
        "### 4.4 Analyze the distribution of ratings and other categorical features like brand, etc"
      ]
    },
    {
      "cell_type": "code",
      "metadata": {
        "colab": {
          "base_uri": "https://localhost:8080/",
          "height": 319
        },
        "id": "oEhjSsMcyirD",
        "outputId": "38f40a6a-4b5e-4e9f-bb76-d5c0ed3d61a2"
      },
      "source": [
        "product_df['brand'].value_counts().plot(kind ='bar', color ='magenta')"
      ],
      "execution_count": 17,
      "outputs": [
        {
          "output_type": "execute_result",
          "data": {
            "text/plain": [
              "<matplotlib.axes._subplots.AxesSubplot at 0x7f07a91babd0>"
            ]
          },
          "metadata": {
            "tags": []
          },
          "execution_count": 17
        },
        {
          "output_type": "display_data",
          "data": {
            "image/png": "[encoded data removed]",
            "text/plain": [
              "<Figure size 432x288 with 1 Axes>"
            ]
          },
          "metadata": {
            "tags": [],
            "needs_background": "light"
          }
        }
      ]
    },
    {
      "cell_type": "code",
      "metadata": {
        "colab": {
          "base_uri": "https://localhost:8080/"
        },
        "id": "OSBBiAv8yscd",
        "outputId": "aa77fb13-e719-4b97-aa5f-0afc3a4d8998"
      },
      "source": [
        "product_df.groupby('brand').count()['asin']"
      ],
      "execution_count": 18,
      "outputs": [
        {
          "output_type": "execute_result",
          "data": {
            "text/plain": [
              "brand\n",
              "ASUS          5\n",
              "Apple        63\n",
              "Google       38\n",
              "HUAWEI       32\n",
              "Motorola    105\n",
              "Nokia        44\n",
              "OnePlus      10\n",
              "Samsung     346\n",
              "Sony         27\n",
              "Xiaomi       46\n",
              "Name: asin, dtype: int64"
            ]
          },
          "metadata": {
            "tags": []
          },
          "execution_count": 18
        }
      ]
    },
    {
      "cell_type": "code",
      "metadata": {
        "colab": {
          "base_uri": "https://localhost:8080/",
          "height": 279
        },
        "id": "VqfPJq4MK0rF",
        "outputId": "9c9b24d9-7083-4a4b-8a8a-0c6f3c963909"
      },
      "source": [
        "review_df['rating'].value_counts().plot(kind ='bar')"
      ],
      "execution_count": 19,
      "outputs": [
        {
          "output_type": "execute_result",
          "data": {
            "text/plain": [
              "<matplotlib.axes._subplots.AxesSubplot at 0x7f07a91445d0>"
            ]
          },
          "metadata": {
            "tags": []
          },
          "execution_count": 19
        },
        {
          "output_type": "display_data",
          "data": {
            "image/png": "[encoded data removed]",
            "text/plain": [
              "<Figure size 432x288 with 1 Axes>"
            ]
          },
          "metadata": {
            "tags": [],
            "needs_background": "light"
          }
        }
      ]
    },
    {
      "cell_type": "markdown",
      "metadata": {
        "id": "jwZBGODgyi1a"
      },
      "source": [
        "### 4.5 Display average rating per brand"
      ]
    },
    {
      "cell_type": "code",
      "metadata": {
        "colab": {
          "base_uri": "https://localhost:8080/"
        },
        "id": "ml8c6-BFR41l",
        "outputId": "a5bd0c03-c6af-4483-c72e-820950e1e391"
      },
      "source": [
        "product_df.groupby('brand')['rating'].mean()"
      ],
      "execution_count": 20,
      "outputs": [
        {
          "output_type": "execute_result",
          "data": {
            "text/plain": [
              "brand\n",
              "ASUS       3.8600000\n",
              "Apple      3.7825397\n",
              "Google     3.7710526\n",
              "HUAWEI     4.0218750\n",
              "Motorola   3.6438095\n",
              "Nokia      3.3863636\n",
              "OnePlus    3.5800000\n",
              "Samsung    3.6326590\n",
              "Sony       3.7888889\n",
              "Xiaomi     4.4152174\n",
              "Name: rating, dtype: float64"
            ]
          },
          "metadata": {
            "tags": []
          },
          "execution_count": 20
        }
      ]
    },
    {
      "cell_type": "code",
      "metadata": {
        "colab": {
          "base_uri": "https://localhost:8080/",
          "height": 349
        },
        "id": "PhRwJkt-UgwS",
        "outputId": "9e20af38-1745-4d8f-c92d-f9edb0d164d5"
      },
      "source": [
        "product_df.groupby('brand').mean()['rating'].sort_values().plot(kind = 'bar', title = \"Avg Rating per Brand\")"
      ],
      "execution_count": 21,
      "outputs": [
        {
          "output_type": "execute_result",
          "data": {
            "text/plain": [
              "<matplotlib.axes._subplots.AxesSubplot at 0x7f07a8f01290>"
            ]
          },
          "metadata": {
            "tags": []
          },
          "execution_count": 21
        },
        {
          "output_type": "display_data",
          "data": {
            "image/png": "[encoded data removed]",
            "text/plain": [
              "<Figure size 432x288 with 1 Axes>"
            ]
          },
          "metadata": {
            "tags": [],
            "needs_background": "light"
          }
        }
      ]
    },
    {
      "cell_type": "markdown",
      "metadata": {
        "id": "vUXuEwlgyvB0"
      },
      "source": [
        "### 4.6 Display average price per brand"
      ]
    },
    {
      "cell_type": "code",
      "metadata": {
        "colab": {
          "base_uri": "https://localhost:8080/"
        },
        "id": "ACgIwVlyy3Pu",
        "outputId": "f642848c-0ff1-4da9-c7f9-03868e23b8e2"
      },
      "source": [
        "product_df.groupby('brand')['price'].mean()"
      ],
      "execution_count": 22,
      "outputs": [
        {
          "output_type": "execute_result",
          "data": {
            "text/plain": [
              "brand\n",
              "ASUS       309.6860000\n",
              "Apple      303.5811111\n",
              "Google     241.8676316\n",
              "HUAWEI     218.8290625\n",
              "Motorola   139.1210476\n",
              "Nokia      111.4438636\n",
              "OnePlus    426.1960000\n",
              "Samsung    256.5272543\n",
              "Sony       332.7248148\n",
              "Xiaomi     214.9676087\n",
              "Name: price, dtype: float64"
            ]
          },
          "metadata": {
            "tags": []
          },
          "execution_count": 22
        }
      ]
    },
    {
      "cell_type": "code",
      "metadata": {
        "colab": {
          "base_uri": "https://localhost:8080/",
          "height": 349
        },
        "id": "Q5jbcgisU7ax",
        "outputId": "a1721eb2-183c-49f6-9532-277e8ec9bb9e"
      },
      "source": [
        "product_df.groupby('brand')['price'].mean().sort_values().plot(kind = 'bar', title = \"Avg price per Brand\")"
      ],
      "execution_count": 23,
      "outputs": [
        {
          "output_type": "execute_result",
          "data": {
            "text/plain": [
              "<matplotlib.axes._subplots.AxesSubplot at 0x7f07a90a00d0>"
            ]
          },
          "metadata": {
            "tags": []
          },
          "execution_count": 23
        },
        {
          "output_type": "display_data",
          "data": {
            "image/png": "[encoded data removed]",
            "text/plain": [
              "<Figure size 432x288 with 1 Axes>"
            ]
          },
          "metadata": {
            "tags": [],
            "needs_background": "light"
          }
        }
      ]
    },
    {
      "cell_type": "markdown",
      "metadata": {
        "id": "U0JfwL74y3a-"
      },
      "source": [
        "### 4.7 Display average 'totalReviews' per brand"
      ]
    },
    {
      "cell_type": "code",
      "metadata": {
        "colab": {
          "base_uri": "https://localhost:8080/"
        },
        "id": "wfzciNxqzBYu",
        "outputId": "8fafe2cd-75a3-4830-ad75-da575641d851"
      },
      "source": [
        "product_df.groupby('brand')['totalReviews'].mean()"
      ],
      "execution_count": 24,
      "outputs": [
        {
          "output_type": "execute_result",
          "data": {
            "text/plain": [
              "brand\n",
              "ASUS        52.6000000\n",
              "Apple      100.2380952\n",
              "Google     111.5263158\n",
              "HUAWEI      77.0937500\n",
              "Motorola    89.7047619\n",
              "Nokia      140.5000000\n",
              "OnePlus     40.6000000\n",
              "Samsung    108.9624277\n",
              "Sony       122.6666667\n",
              "Xiaomi     121.1739130\n",
              "Name: totalReviews, dtype: float64"
            ]
          },
          "metadata": {
            "tags": []
          },
          "execution_count": 24
        }
      ]
    },
    {
      "cell_type": "code",
      "metadata": {
        "colab": {
          "base_uri": "https://localhost:8080/",
          "height": 349
        },
        "id": "6yHZeEltVFFv",
        "outputId": "901129df-aac1-495e-ce1d-8634ea6d86e6"
      },
      "source": [
        "product_df.groupby('brand')['totalReviews'].mean().sort_values().plot(kind = 'bar', title = \"Avg totalReviews per Brand\")"
      ],
      "execution_count": 25,
      "outputs": [
        {
          "output_type": "execute_result",
          "data": {
            "text/plain": [
              "<matplotlib.axes._subplots.AxesSubplot at 0x7f07a9021e50>"
            ]
          },
          "metadata": {
            "tags": []
          },
          "execution_count": 25
        },
        {
          "output_type": "display_data",
          "data": {
            "image/png": "[encoded data removed]",
            "text/plain": [
              "<Figure size 432x288 with 1 Axes>"
            ]
          },
          "metadata": {
            "tags": [],
            "needs_background": "light"
          }
        }
      ]
    },
    {
      "cell_type": "markdown",
      "metadata": {
        "id": "x_fxI7OAeDUM"
      },
      "source": [
        "### 4.8 Merge two datasets using 'asin' and check the shape of the final dataset"
      ]
    },
    {
      "cell_type": "code",
      "metadata": {
        "id": "svpHfWI9zNAP"
      },
      "source": [
        "merged_df = pd.merge(review_df, product_df, on ='asin',how = 'left')"
      ],
      "execution_count": 26,
      "outputs": []
    },
    {
      "cell_type": "code",
      "metadata": {
        "colab": {
          "base_uri": "https://localhost:8080/",
          "height": 374
        },
        "id": "-zO3y6ooWeiF",
        "outputId": "6858ce83-8e02-46ba-9efe-e9e1485f47cf"
      },
      "source": [
        "merged_df.head()"
      ],
      "execution_count": 27,
      "outputs": [
        {
          "output_type": "execute_result",
          "data": {
            "text/html": [
              "<div>\n",
              "<style scoped>\n",
              "    .dataframe tbody tr th:only-of-type {\n",
              "        vertical-align: middle;\n",
              "    }\n",
              "\n",
              "    .dataframe tbody tr th {\n",
              "        vertical-align: top;\n",
              "    }\n",
              "\n",
              "    .dataframe thead th {\n",
              "        text-align: right;\n",
              "    }\n",
              "</style>\n",
              "<table border=\"1\" class=\"dataframe\">\n",
              "  <thead>\n",
              "    <tr style=\"text-align: right;\">\n",
              "      <th></th>\n",
              "      <th>asin</th>\n",
              "      <th>rating_x</th>\n",
              "      <th>verified</th>\n",
              "      <th>title_x</th>\n",
              "      <th>body</th>\n",
              "      <th>helpfulVotes</th>\n",
              "      <th>brand</th>\n",
              "      <th>title_y</th>\n",
              "      <th>rating_y</th>\n",
              "      <th>totalReviews</th>\n",
              "      <th>price</th>\n",
              "      <th>originalPrice</th>\n",
              "    </tr>\n",
              "  </thead>\n",
              "  <tbody>\n",
              "    <tr>\n",
              "      <th>0</th>\n",
              "      <td>B0000SX2UC</td>\n",
              "      <td>3</td>\n",
              "      <td>False</td>\n",
              "      <td>Def not best, but not worst</td>\n",
              "      <td>I had the Samsung A600 for awhile which is abs...</td>\n",
              "      <td>1.0000000</td>\n",
              "      <td>NaN</td>\n",
              "      <td>Dual-Band / Tri-Mode Sprint PCS Phone w/ Voice...</td>\n",
              "      <td>3.0000000</td>\n",
              "      <td>14</td>\n",
              "      <td>0.0000000</td>\n",
              "      <td>0.0000000</td>\n",
              "    </tr>\n",
              "    <tr>\n",
              "      <th>1</th>\n",
              "      <td>B0000SX2UC</td>\n",
              "      <td>1</td>\n",
              "      <td>False</td>\n",
              "      <td>Text Messaging Doesn't Work</td>\n",
              "      <td>Due to a software issue between Nokia and Spri...</td>\n",
              "      <td>17.0000000</td>\n",
              "      <td>NaN</td>\n",
              "      <td>Dual-Band / Tri-Mode Sprint PCS Phone w/ Voice...</td>\n",
              "      <td>3.0000000</td>\n",
              "      <td>14</td>\n",
              "      <td>0.0000000</td>\n",
              "      <td>0.0000000</td>\n",
              "    </tr>\n",
              "    <tr>\n",
              "      <th>2</th>\n",
              "      <td>B0000SX2UC</td>\n",
              "      <td>5</td>\n",
              "      <td>False</td>\n",
              "      <td>Love This Phone</td>\n",
              "      <td>This is a great, reliable phone. I also purcha...</td>\n",
              "      <td>5.0000000</td>\n",
              "      <td>NaN</td>\n",
              "      <td>Dual-Band / Tri-Mode Sprint PCS Phone w/ Voice...</td>\n",
              "      <td>3.0000000</td>\n",
              "      <td>14</td>\n",
              "      <td>0.0000000</td>\n",
              "      <td>0.0000000</td>\n",
              "    </tr>\n",
              "    <tr>\n",
              "      <th>3</th>\n",
              "      <td>B0000SX2UC</td>\n",
              "      <td>3</td>\n",
              "      <td>False</td>\n",
              "      <td>Love the Phone, BUT...!</td>\n",
              "      <td>I love the phone and all, because I really did...</td>\n",
              "      <td>1.0000000</td>\n",
              "      <td>NaN</td>\n",
              "      <td>Dual-Band / Tri-Mode Sprint PCS Phone w/ Voice...</td>\n",
              "      <td>3.0000000</td>\n",
              "      <td>14</td>\n",
              "      <td>0.0000000</td>\n",
              "      <td>0.0000000</td>\n",
              "    </tr>\n",
              "    <tr>\n",
              "      <th>4</th>\n",
              "      <td>B0000SX2UC</td>\n",
              "      <td>4</td>\n",
              "      <td>False</td>\n",
              "      <td>Great phone service and options, lousy case!</td>\n",
              "      <td>The phone has been great for every purpose it ...</td>\n",
              "      <td>1.0000000</td>\n",
              "      <td>NaN</td>\n",
              "      <td>Dual-Band / Tri-Mode Sprint PCS Phone w/ Voice...</td>\n",
              "      <td>3.0000000</td>\n",
              "      <td>14</td>\n",
              "      <td>0.0000000</td>\n",
              "      <td>0.0000000</td>\n",
              "    </tr>\n",
              "  </tbody>\n",
              "</table>\n",
              "</div>"
            ],
            "text/plain": [
              "         asin  rating_x  verified  \\\n",
              "0  B0000SX2UC         3     False   \n",
              "1  B0000SX2UC         1     False   \n",
              "2  B0000SX2UC         5     False   \n",
              "3  B0000SX2UC         3     False   \n",
              "4  B0000SX2UC         4     False   \n",
              "\n",
              "                                        title_x  \\\n",
              "0                   Def not best, but not worst   \n",
              "1                   Text Messaging Doesn't Work   \n",
              "2                               Love This Phone   \n",
              "3                       Love the Phone, BUT...!   \n",
              "4  Great phone service and options, lousy case!   \n",
              "\n",
              "                                                body  helpfulVotes brand  \\\n",
              "0  I had the Samsung A600 for awhile which is abs...     1.0000000   NaN   \n",
              "1  Due to a software issue between Nokia and Spri...    17.0000000   NaN   \n",
              "2  This is a great, reliable phone. I also purcha...     5.0000000   NaN   \n",
              "3  I love the phone and all, because I really did...     1.0000000   NaN   \n",
              "4  The phone has been great for every purpose it ...     1.0000000   NaN   \n",
              "\n",
              "                                             title_y  rating_y  totalReviews  \\\n",
              "0  Dual-Band / Tri-Mode Sprint PCS Phone w/ Voice... 3.0000000            14   \n",
              "1  Dual-Band / Tri-Mode Sprint PCS Phone w/ Voice... 3.0000000            14   \n",
              "2  Dual-Band / Tri-Mode Sprint PCS Phone w/ Voice... 3.0000000            14   \n",
              "3  Dual-Band / Tri-Mode Sprint PCS Phone w/ Voice... 3.0000000            14   \n",
              "4  Dual-Band / Tri-Mode Sprint PCS Phone w/ Voice... 3.0000000            14   \n",
              "\n",
              "      price  originalPrice  \n",
              "0 0.0000000      0.0000000  \n",
              "1 0.0000000      0.0000000  \n",
              "2 0.0000000      0.0000000  \n",
              "3 0.0000000      0.0000000  \n",
              "4 0.0000000      0.0000000  "
            ]
          },
          "metadata": {
            "tags": []
          },
          "execution_count": 27
        }
      ]
    },
    {
      "cell_type": "code",
      "metadata": {
        "colab": {
          "base_uri": "https://localhost:8080/"
        },
        "id": "LsQVxLB0XiXP",
        "outputId": "821f2550-437b-4e42-f719-96a70438dbab"
      },
      "source": [
        "merged_df.shape"
      ],
      "execution_count": 28,
      "outputs": [
        {
          "output_type": "execute_result",
          "data": {
            "text/plain": [
              "(67986, 12)"
            ]
          },
          "metadata": {
            "tags": []
          },
          "execution_count": 28
        }
      ]
    },
    {
      "cell_type": "code",
      "metadata": {
        "colab": {
          "base_uri": "https://localhost:8080/"
        },
        "id": "axDNyuOTXn0Y",
        "outputId": "1d205a32-b447-4126-8a09-fa6d4b4d814d"
      },
      "source": [
        "merged_df.info()"
      ],
      "execution_count": 29,
      "outputs": [
        {
          "output_type": "stream",
          "text": [
            "<class 'pandas.core.frame.DataFrame'>\n",
            "Int64Index: 67986 entries, 0 to 67985\n",
            "Data columns (total 12 columns):\n",
            " #   Column         Non-Null Count  Dtype  \n",
            "---  ------         --------------  -----  \n",
            " 0   asin           67986 non-null  object \n",
            " 1   rating_x       67986 non-null  int64  \n",
            " 2   verified       67986 non-null  bool   \n",
            " 3   title_x        67972 non-null  object \n",
            " 4   body           67965 non-null  object \n",
            " 5   helpfulVotes   27215 non-null  float64\n",
            " 6   brand          67786 non-null  object \n",
            " 7   title_y        67986 non-null  object \n",
            " 8   rating_y       67986 non-null  float64\n",
            " 9   totalReviews   67986 non-null  int64  \n",
            " 10  price          67986 non-null  float64\n",
            " 11  originalPrice  67986 non-null  float64\n",
            "dtypes: bool(1), float64(4), int64(2), object(5)\n",
            "memory usage: 6.3+ MB\n"
          ],
          "name": "stdout"
        }
      ]
    },
    {
      "cell_type": "markdown",
      "metadata": {
        "id": "zdTfwlL7fYpq"
      },
      "source": [
        "### 4.9 Rename important features with appropriate names.\n",
        "Imortant features - \"rating_x\": \"user_rating\", \"title_x\": \"review_title\", \"title_y\": \"item_title\", \"rating_y\": \"overall_rating\""
      ]
    },
    {
      "cell_type": "code",
      "metadata": {
        "colab": {
          "base_uri": "https://localhost:8080/",
          "height": 425
        },
        "id": "KI-6FCkZztXM",
        "outputId": "9752cbf3-2943-4a58-e134-b347508bb521"
      },
      "source": [
        "merged_df.rename(columns = {\"rating_x\": \"user_rating\", \"title_x\": \"review_title\", \"title_y\": \"item_title\", \"rating_y\": \"overall_rating\"}, inplace = True)\n",
        "merged_df.head()"
      ],
      "execution_count": 30,
      "outputs": [
        {
          "output_type": "execute_result",
          "data": {
            "text/html": [
              "<div>\n",
              "<style scoped>\n",
              "    .dataframe tbody tr th:only-of-type {\n",
              "        vertical-align: middle;\n",
              "    }\n",
              "\n",
              "    .dataframe tbody tr th {\n",
              "        vertical-align: top;\n",
              "    }\n",
              "\n",
              "    .dataframe thead th {\n",
              "        text-align: right;\n",
              "    }\n",
              "</style>\n",
              "<table border=\"1\" class=\"dataframe\">\n",
              "  <thead>\n",
              "    <tr style=\"text-align: right;\">\n",
              "      <th></th>\n",
              "      <th>asin</th>\n",
              "      <th>user_rating</th>\n",
              "      <th>verified</th>\n",
              "      <th>review_title</th>\n",
              "      <th>body</th>\n",
              "      <th>helpfulVotes</th>\n",
              "      <th>brand</th>\n",
              "      <th>item_title</th>\n",
              "      <th>overall_rating</th>\n",
              "      <th>totalReviews</th>\n",
              "      <th>price</th>\n",
              "      <th>originalPrice</th>\n",
              "    </tr>\n",
              "  </thead>\n",
              "  <tbody>\n",
              "    <tr>\n",
              "      <th>0</th>\n",
              "      <td>B0000SX2UC</td>\n",
              "      <td>3</td>\n",
              "      <td>False</td>\n",
              "      <td>Def not best, but not worst</td>\n",
              "      <td>I had the Samsung A600 for awhile which is abs...</td>\n",
              "      <td>1.0000000</td>\n",
              "      <td>NaN</td>\n",
              "      <td>Dual-Band / Tri-Mode Sprint PCS Phone w/ Voice...</td>\n",
              "      <td>3.0000000</td>\n",
              "      <td>14</td>\n",
              "      <td>0.0000000</td>\n",
              "      <td>0.0000000</td>\n",
              "    </tr>\n",
              "    <tr>\n",
              "      <th>1</th>\n",
              "      <td>B0000SX2UC</td>\n",
              "      <td>1</td>\n",
              "      <td>False</td>\n",
              "      <td>Text Messaging Doesn't Work</td>\n",
              "      <td>Due to a software issue between Nokia and Spri...</td>\n",
              "      <td>17.0000000</td>\n",
              "      <td>NaN</td>\n",
              "      <td>Dual-Band / Tri-Mode Sprint PCS Phone w/ Voice...</td>\n",
              "      <td>3.0000000</td>\n",
              "      <td>14</td>\n",
              "      <td>0.0000000</td>\n",
              "      <td>0.0000000</td>\n",
              "    </tr>\n",
              "    <tr>\n",
              "      <th>2</th>\n",
              "      <td>B0000SX2UC</td>\n",
              "      <td>5</td>\n",
              "      <td>False</td>\n",
              "      <td>Love This Phone</td>\n",
              "      <td>This is a great, reliable phone. I also purcha...</td>\n",
              "      <td>5.0000000</td>\n",
              "      <td>NaN</td>\n",
              "      <td>Dual-Band / Tri-Mode Sprint PCS Phone w/ Voice...</td>\n",
              "      <td>3.0000000</td>\n",
              "      <td>14</td>\n",
              "      <td>0.0000000</td>\n",
              "      <td>0.0000000</td>\n",
              "    </tr>\n",
              "    <tr>\n",
              "      <th>3</th>\n",
              "      <td>B0000SX2UC</td>\n",
              "      <td>3</td>\n",
              "      <td>False</td>\n",
              "      <td>Love the Phone, BUT...!</td>\n",
              "      <td>I love the phone and all, because I really did...</td>\n",
              "      <td>1.0000000</td>\n",
              "      <td>NaN</td>\n",
              "      <td>Dual-Band / Tri-Mode Sprint PCS Phone w/ Voice...</td>\n",
              "      <td>3.0000000</td>\n",
              "      <td>14</td>\n",
              "      <td>0.0000000</td>\n",
              "      <td>0.0000000</td>\n",
              "    </tr>\n",
              "    <tr>\n",
              "      <th>4</th>\n",
              "      <td>B0000SX2UC</td>\n",
              "      <td>4</td>\n",
              "      <td>False</td>\n",
              "      <td>Great phone service and options, lousy case!</td>\n",
              "      <td>The phone has been great for every purpose it ...</td>\n",
              "      <td>1.0000000</td>\n",
              "      <td>NaN</td>\n",
              "      <td>Dual-Band / Tri-Mode Sprint PCS Phone w/ Voice...</td>\n",
              "      <td>3.0000000</td>\n",
              "      <td>14</td>\n",
              "      <td>0.0000000</td>\n",
              "      <td>0.0000000</td>\n",
              "    </tr>\n",
              "  </tbody>\n",
              "</table>\n",
              "</div>"
            ],
            "text/plain": [
              "         asin  user_rating  verified  \\\n",
              "0  B0000SX2UC            3     False   \n",
              "1  B0000SX2UC            1     False   \n",
              "2  B0000SX2UC            5     False   \n",
              "3  B0000SX2UC            3     False   \n",
              "4  B0000SX2UC            4     False   \n",
              "\n",
              "                                   review_title  \\\n",
              "0                   Def not best, but not worst   \n",
              "1                   Text Messaging Doesn't Work   \n",
              "2                               Love This Phone   \n",
              "3                       Love the Phone, BUT...!   \n",
              "4  Great phone service and options, lousy case!   \n",
              "\n",
              "                                                body  helpfulVotes brand  \\\n",
              "0  I had the Samsung A600 for awhile which is abs...     1.0000000   NaN   \n",
              "1  Due to a software issue between Nokia and Spri...    17.0000000   NaN   \n",
              "2  This is a great, reliable phone. I also purcha...     5.0000000   NaN   \n",
              "3  I love the phone and all, because I really did...     1.0000000   NaN   \n",
              "4  The phone has been great for every purpose it ...     1.0000000   NaN   \n",
              "\n",
              "                                          item_title  overall_rating  \\\n",
              "0  Dual-Band / Tri-Mode Sprint PCS Phone w/ Voice...       3.0000000   \n",
              "1  Dual-Band / Tri-Mode Sprint PCS Phone w/ Voice...       3.0000000   \n",
              "2  Dual-Band / Tri-Mode Sprint PCS Phone w/ Voice...       3.0000000   \n",
              "3  Dual-Band / Tri-Mode Sprint PCS Phone w/ Voice...       3.0000000   \n",
              "4  Dual-Band / Tri-Mode Sprint PCS Phone w/ Voice...       3.0000000   \n",
              "\n",
              "   totalReviews     price  originalPrice  \n",
              "0            14 0.0000000      0.0000000  \n",
              "1            14 0.0000000      0.0000000  \n",
              "2            14 0.0000000      0.0000000  \n",
              "3            14 0.0000000      0.0000000  \n",
              "4            14 0.0000000      0.0000000  "
            ]
          },
          "metadata": {
            "tags": []
          },
          "execution_count": 30
        }
      ]
    },
    {
      "cell_type": "markdown",
      "metadata": {
        "id": "hNHEElHszthc"
      },
      "source": [
        "### 4.10 Select rows having verified reviews and check the shape of the final dataset"
      ]
    },
    {
      "cell_type": "code",
      "metadata": {
        "colab": {
          "base_uri": "https://localhost:8080/"
        },
        "id": "0TaTFXLEab_1",
        "outputId": "e57c2fdc-d607-453b-c815-92222bb66a92"
      },
      "source": [
        "merged_df.shape"
      ],
      "execution_count": 31,
      "outputs": [
        {
          "output_type": "execute_result",
          "data": {
            "text/plain": [
              "(67986, 12)"
            ]
          },
          "metadata": {
            "tags": []
          },
          "execution_count": 31
        }
      ]
    },
    {
      "cell_type": "code",
      "metadata": {
        "colab": {
          "base_uri": "https://localhost:8080/"
        },
        "id": "NbPXBcDualfx",
        "outputId": "1826c763-efda-430d-9700-db0ffd7873aa"
      },
      "source": [
        "merged_df['verified'].value_counts()"
      ],
      "execution_count": 32,
      "outputs": [
        {
          "output_type": "execute_result",
          "data": {
            "text/plain": [
              "True     61225\n",
              "False     6761\n",
              "Name: verified, dtype: int64"
            ]
          },
          "metadata": {
            "tags": []
          },
          "execution_count": 32
        }
      ]
    },
    {
      "cell_type": "code",
      "metadata": {
        "colab": {
          "base_uri": "https://localhost:8080/"
        },
        "id": "Jyav9_Zoz-rT",
        "outputId": "57397205-4661-47db-cd68-5f1ba4b5e65b"
      },
      "source": [
        "final_df = merged_df[(merged_df[\"verified\"] == True)]\n",
        "final_df.shape"
      ],
      "execution_count": 33,
      "outputs": [
        {
          "output_type": "execute_result",
          "data": {
            "text/plain": [
              "(61225, 12)"
            ]
          },
          "metadata": {
            "tags": []
          },
          "execution_count": 33
        }
      ]
    },
    {
      "cell_type": "code",
      "metadata": {
        "colab": {
          "base_uri": "https://localhost:8080/",
          "height": 438
        },
        "id": "-_LX3USla4Tl",
        "outputId": "6653df41-3281-464a-94ce-0d7fa2cb26ea"
      },
      "source": [
        "final_df.describe(include ='all').T"
      ],
      "execution_count": 34,
      "outputs": [
        {
          "output_type": "execute_result",
          "data": {
            "text/html": [
              "<div>\n",
              "<style scoped>\n",
              "    .dataframe tbody tr th:only-of-type {\n",
              "        vertical-align: middle;\n",
              "    }\n",
              "\n",
              "    .dataframe tbody tr th {\n",
              "        vertical-align: top;\n",
              "    }\n",
              "\n",
              "    .dataframe thead th {\n",
              "        text-align: right;\n",
              "    }\n",
              "</style>\n",
              "<table border=\"1\" class=\"dataframe\">\n",
              "  <thead>\n",
              "    <tr style=\"text-align: right;\">\n",
              "      <th></th>\n",
              "      <th>count</th>\n",
              "      <th>unique</th>\n",
              "      <th>top</th>\n",
              "      <th>freq</th>\n",
              "      <th>mean</th>\n",
              "      <th>std</th>\n",
              "      <th>min</th>\n",
              "      <th>25%</th>\n",
              "      <th>50%</th>\n",
              "      <th>75%</th>\n",
              "      <th>max</th>\n",
              "    </tr>\n",
              "  </thead>\n",
              "  <tbody>\n",
              "    <tr>\n",
              "      <th>asin</th>\n",
              "      <td>61225</td>\n",
              "      <td>712</td>\n",
              "      <td>B00F2SKPIM</td>\n",
              "      <td>850</td>\n",
              "      <td>NaN</td>\n",
              "      <td>NaN</td>\n",
              "      <td>NaN</td>\n",
              "      <td>NaN</td>\n",
              "      <td>NaN</td>\n",
              "      <td>NaN</td>\n",
              "      <td>NaN</td>\n",
              "    </tr>\n",
              "    <tr>\n",
              "      <th>user_rating</th>\n",
              "      <td>61225.0000000</td>\n",
              "      <td>NaN</td>\n",
              "      <td>NaN</td>\n",
              "      <td>NaN</td>\n",
              "      <td>3.8635688</td>\n",
              "      <td>1.5609246</td>\n",
              "      <td>1.0000000</td>\n",
              "      <td>3.0000000</td>\n",
              "      <td>5.0000000</td>\n",
              "      <td>5.0000000</td>\n",
              "      <td>5.0000000</td>\n",
              "    </tr>\n",
              "    <tr>\n",
              "      <th>verified</th>\n",
              "      <td>61225</td>\n",
              "      <td>1</td>\n",
              "      <td>True</td>\n",
              "      <td>61225</td>\n",
              "      <td>NaN</td>\n",
              "      <td>NaN</td>\n",
              "      <td>NaN</td>\n",
              "      <td>NaN</td>\n",
              "      <td>NaN</td>\n",
              "      <td>NaN</td>\n",
              "      <td>NaN</td>\n",
              "    </tr>\n",
              "    <tr>\n",
              "      <th>review_title</th>\n",
              "      <td>61211</td>\n",
              "      <td>36450</td>\n",
              "      <td>Five Stars</td>\n",
              "      <td>5849</td>\n",
              "      <td>NaN</td>\n",
              "      <td>NaN</td>\n",
              "      <td>NaN</td>\n",
              "      <td>NaN</td>\n",
              "      <td>NaN</td>\n",
              "      <td>NaN</td>\n",
              "      <td>NaN</td>\n",
              "    </tr>\n",
              "    <tr>\n",
              "      <th>body</th>\n",
              "      <td>61207</td>\n",
              "      <td>53569</td>\n",
              "      <td>Good</td>\n",
              "      <td>298</td>\n",
              "      <td>NaN</td>\n",
              "      <td>NaN</td>\n",
              "      <td>NaN</td>\n",
              "      <td>NaN</td>\n",
              "      <td>NaN</td>\n",
              "      <td>NaN</td>\n",
              "      <td>NaN</td>\n",
              "    </tr>\n",
              "    <tr>\n",
              "      <th>helpfulVotes</th>\n",
              "      <td>23162.0000000</td>\n",
              "      <td>NaN</td>\n",
              "      <td>NaN</td>\n",
              "      <td>NaN</td>\n",
              "      <td>7.8682756</td>\n",
              "      <td>31.7280029</td>\n",
              "      <td>1.0000000</td>\n",
              "      <td>1.0000000</td>\n",
              "      <td>2.0000000</td>\n",
              "      <td>4.0000000</td>\n",
              "      <td>990.0000000</td>\n",
              "    </tr>\n",
              "    <tr>\n",
              "      <th>brand</th>\n",
              "      <td>61078</td>\n",
              "      <td>10</td>\n",
              "      <td>Samsung</td>\n",
              "      <td>31020</td>\n",
              "      <td>NaN</td>\n",
              "      <td>NaN</td>\n",
              "      <td>NaN</td>\n",
              "      <td>NaN</td>\n",
              "      <td>NaN</td>\n",
              "      <td>NaN</td>\n",
              "      <td>NaN</td>\n",
              "    </tr>\n",
              "    <tr>\n",
              "      <th>item_title</th>\n",
              "      <td>61225</td>\n",
              "      <td>710</td>\n",
              "      <td>Samsung Galaxy Note 3, Black 32GB (Verizon Wir...</td>\n",
              "      <td>850</td>\n",
              "      <td>NaN</td>\n",
              "      <td>NaN</td>\n",
              "      <td>NaN</td>\n",
              "      <td>NaN</td>\n",
              "      <td>NaN</td>\n",
              "      <td>NaN</td>\n",
              "      <td>NaN</td>\n",
              "    </tr>\n",
              "    <tr>\n",
              "      <th>overall_rating</th>\n",
              "      <td>61225.0000000</td>\n",
              "      <td>NaN</td>\n",
              "      <td>NaN</td>\n",
              "      <td>NaN</td>\n",
              "      <td>3.7761813</td>\n",
              "      <td>0.4287652</td>\n",
              "      <td>1.0000000</td>\n",
              "      <td>3.5000000</td>\n",
              "      <td>3.8000000</td>\n",
              "      <td>4.1000000</td>\n",
              "      <td>5.0000000</td>\n",
              "    </tr>\n",
              "    <tr>\n",
              "      <th>totalReviews</th>\n",
              "      <td>61225.0000000</td>\n",
              "      <td>NaN</td>\n",
              "      <td>NaN</td>\n",
              "      <td>NaN</td>\n",
              "      <td>374.0600572</td>\n",
              "      <td>263.1254105</td>\n",
              "      <td>1.0000000</td>\n",
              "      <td>153.0000000</td>\n",
              "      <td>325.0000000</td>\n",
              "      <td>558.0000000</td>\n",
              "      <td>983.0000000</td>\n",
              "    </tr>\n",
              "    <tr>\n",
              "      <th>price</th>\n",
              "      <td>61225.0000000</td>\n",
              "      <td>NaN</td>\n",
              "      <td>NaN</td>\n",
              "      <td>NaN</td>\n",
              "      <td>220.5868856</td>\n",
              "      <td>185.9539944</td>\n",
              "      <td>0.0000000</td>\n",
              "      <td>104.9000000</td>\n",
              "      <td>179.9900000</td>\n",
              "      <td>300.5500000</td>\n",
              "      <td>999.9900000</td>\n",
              "    </tr>\n",
              "    <tr>\n",
              "      <th>originalPrice</th>\n",
              "      <td>61225.0000000</td>\n",
              "      <td>NaN</td>\n",
              "      <td>NaN</td>\n",
              "      <td>NaN</td>\n",
              "      <td>84.3021385</td>\n",
              "      <td>200.6068593</td>\n",
              "      <td>0.0000000</td>\n",
              "      <td>0.0000000</td>\n",
              "      <td>0.0000000</td>\n",
              "      <td>0.0000000</td>\n",
              "      <td>999.9900000</td>\n",
              "    </tr>\n",
              "  </tbody>\n",
              "</table>\n",
              "</div>"
            ],
            "text/plain": [
              "                       count unique  \\\n",
              "asin                   61225    712   \n",
              "user_rating    61225.0000000    NaN   \n",
              "verified               61225      1   \n",
              "review_title           61211  36450   \n",
              "body                   61207  53569   \n",
              "helpfulVotes   23162.0000000    NaN   \n",
              "brand                  61078     10   \n",
              "item_title             61225    710   \n",
              "overall_rating 61225.0000000    NaN   \n",
              "totalReviews   61225.0000000    NaN   \n",
              "price          61225.0000000    NaN   \n",
              "originalPrice  61225.0000000    NaN   \n",
              "\n",
              "                                                              top   freq  \\\n",
              "asin                                                   B00F2SKPIM    850   \n",
              "user_rating                                                   NaN    NaN   \n",
              "verified                                                     True  61225   \n",
              "review_title                                           Five Stars   5849   \n",
              "body                                                         Good    298   \n",
              "helpfulVotes                                                  NaN    NaN   \n",
              "brand                                                     Samsung  31020   \n",
              "item_title      Samsung Galaxy Note 3, Black 32GB (Verizon Wir...    850   \n",
              "overall_rating                                                NaN    NaN   \n",
              "totalReviews                                                  NaN    NaN   \n",
              "price                                                         NaN    NaN   \n",
              "originalPrice                                                 NaN    NaN   \n",
              "\n",
              "                      mean         std       min         25%         50%  \\\n",
              "asin                   NaN         NaN       NaN         NaN         NaN   \n",
              "user_rating      3.8635688   1.5609246 1.0000000   3.0000000   5.0000000   \n",
              "verified               NaN         NaN       NaN         NaN         NaN   \n",
              "review_title           NaN         NaN       NaN         NaN         NaN   \n",
              "body                   NaN         NaN       NaN         NaN         NaN   \n",
              "helpfulVotes     7.8682756  31.7280029 1.0000000   1.0000000   2.0000000   \n",
              "brand                  NaN         NaN       NaN         NaN         NaN   \n",
              "item_title             NaN         NaN       NaN         NaN         NaN   \n",
              "overall_rating   3.7761813   0.4287652 1.0000000   3.5000000   3.8000000   \n",
              "totalReviews   374.0600572 263.1254105 1.0000000 153.0000000 325.0000000   \n",
              "price          220.5868856 185.9539944 0.0000000 104.9000000 179.9900000   \n",
              "originalPrice   84.3021385 200.6068593 0.0000000   0.0000000   0.0000000   \n",
              "\n",
              "                       75%         max  \n",
              "asin                   NaN         NaN  \n",
              "user_rating      5.0000000   5.0000000  \n",
              "verified               NaN         NaN  \n",
              "review_title           NaN         NaN  \n",
              "body                   NaN         NaN  \n",
              "helpfulVotes     4.0000000 990.0000000  \n",
              "brand                  NaN         NaN  \n",
              "item_title             NaN         NaN  \n",
              "overall_rating   4.1000000   5.0000000  \n",
              "totalReviews   558.0000000 983.0000000  \n",
              "price          300.5500000 999.9900000  \n",
              "originalPrice    0.0000000 999.9900000  "
            ]
          },
          "metadata": {
            "tags": []
          },
          "execution_count": 34
        }
      ]
    },
    {
      "cell_type": "markdown",
      "metadata": {
        "id": "EpKusPjdz-2q"
      },
      "source": [
        "### 4.11 Check the number of reviews for various brands and report the brand that have highest number of reviews"
      ]
    },
    {
      "cell_type": "code",
      "metadata": {
        "colab": {
          "base_uri": "https://localhost:8080/"
        },
        "id": "BLUqsvq-cvdv",
        "outputId": "8ba496a4-acac-4be1-be7d-04975ca3ce08"
      },
      "source": [
        "final_df['brand'].value_counts()"
      ],
      "execution_count": 35,
      "outputs": [
        {
          "output_type": "execute_result",
          "data": {
            "text/plain": [
              "Samsung     31020\n",
              "Motorola     7714\n",
              "Nokia        4878\n",
              "Apple        4876\n",
              "Xiaomi       4207\n",
              "Google       3163\n",
              "Sony         2691\n",
              "HUAWEI       2019\n",
              "OnePlus       304\n",
              "ASUS          206\n",
              "Name: brand, dtype: int64"
            ]
          },
          "metadata": {
            "tags": []
          },
          "execution_count": 35
        }
      ]
    },
    {
      "cell_type": "code",
      "metadata": {
        "colab": {
          "base_uri": "https://localhost:8080/",
          "height": 335
        },
        "id": "b8oBe_7McBIa",
        "outputId": "4d588961-8922-4008-f70e-90af1db2bb77"
      },
      "source": [
        "final_df['brand'].value_counts().sort_values(ascending = False).plot(kind = 'bar', title = \"Number of reviews per Brand\")"
      ],
      "execution_count": 36,
      "outputs": [
        {
          "output_type": "execute_result",
          "data": {
            "text/plain": [
              "<matplotlib.axes._subplots.AxesSubplot at 0x7f07a90b1bd0>"
            ]
          },
          "metadata": {
            "tags": []
          },
          "execution_count": 36
        },
        {
          "output_type": "display_data",
          "data": {
            "image/png": "[encoded data removed]",
            "text/plain": [
              "<Figure size 432x288 with 1 Axes>"
            ]
          },
          "metadata": {
            "tags": [],
            "needs_background": "light"
          }
        }
      ]
    },
    {
      "cell_type": "markdown",
      "metadata": {
        "id": "_8Z8h1Rhcm3o"
      },
      "source": [
        "From the above \"Samsung\" has the highest number of reviews"
      ]
    },
    {
      "cell_type": "markdown",
      "metadata": {
        "id": "gPGjMFE-0Q5k"
      },
      "source": [
        "### 4.12 Drop irrelevant columns and keep important features like 'brand','body','price','user_rating','review_title' for further analysis"
      ]
    },
    {
      "cell_type": "code",
      "metadata": {
        "colab": {
          "base_uri": "https://localhost:8080/",
          "height": 204
        },
        "id": "J_IvLN6e0e6z",
        "outputId": "260a07c0-889a-4975-a11c-9401237a1ace"
      },
      "source": [
        "final_df2 = final_df[['brand','body','price','user_rating','review_title' ]]\n",
        "final_df2.head()"
      ],
      "execution_count": 37,
      "outputs": [
        {
          "output_type": "execute_result",
          "data": {
            "text/html": [
              "<div>\n",
              "<style scoped>\n",
              "    .dataframe tbody tr th:only-of-type {\n",
              "        vertical-align: middle;\n",
              "    }\n",
              "\n",
              "    .dataframe tbody tr th {\n",
              "        vertical-align: top;\n",
              "    }\n",
              "\n",
              "    .dataframe thead th {\n",
              "        text-align: right;\n",
              "    }\n",
              "</style>\n",
              "<table border=\"1\" class=\"dataframe\">\n",
              "  <thead>\n",
              "    <tr style=\"text-align: right;\">\n",
              "      <th></th>\n",
              "      <th>brand</th>\n",
              "      <th>body</th>\n",
              "      <th>price</th>\n",
              "      <th>user_rating</th>\n",
              "      <th>review_title</th>\n",
              "    </tr>\n",
              "  </thead>\n",
              "  <tbody>\n",
              "    <tr>\n",
              "      <th>14</th>\n",
              "      <td>Motorola</td>\n",
              "      <td>DON'T BUY OUT OF SERVICE</td>\n",
              "      <td>49.9500000</td>\n",
              "      <td>1</td>\n",
              "      <td>Stupid phone</td>\n",
              "    </tr>\n",
              "    <tr>\n",
              "      <th>17</th>\n",
              "      <td>Motorola</td>\n",
              "      <td>1 star because the phones locked so I have to ...</td>\n",
              "      <td>49.9500000</td>\n",
              "      <td>1</td>\n",
              "      <td>Phones locked</td>\n",
              "    </tr>\n",
              "    <tr>\n",
              "      <th>18</th>\n",
              "      <td>Motorola</td>\n",
              "      <td>The product has been very good. I had used thi...</td>\n",
              "      <td>49.9500000</td>\n",
              "      <td>5</td>\n",
              "      <td>Excellent product</td>\n",
              "    </tr>\n",
              "    <tr>\n",
              "      <th>21</th>\n",
              "      <td>Motorola</td>\n",
              "      <td>I bought this phone to replace an LG phone tha...</td>\n",
              "      <td>99.9900000</td>\n",
              "      <td>4</td>\n",
              "      <td>Nice, but</td>\n",
              "    </tr>\n",
              "    <tr>\n",
              "      <th>22</th>\n",
              "      <td>Motorola</td>\n",
              "      <td>I purchased this phone for my AT&amp;T phone repla...</td>\n",
              "      <td>99.9900000</td>\n",
              "      <td>1</td>\n",
              "      <td>It seems it doesn't work with the existing AT&amp;...</td>\n",
              "    </tr>\n",
              "  </tbody>\n",
              "</table>\n",
              "</div>"
            ],
            "text/plain": [
              "       brand                                               body      price  \\\n",
              "14  Motorola                           DON'T BUY OUT OF SERVICE 49.9500000   \n",
              "17  Motorola  1 star because the phones locked so I have to ... 49.9500000   \n",
              "18  Motorola  The product has been very good. I had used thi... 49.9500000   \n",
              "21  Motorola  I bought this phone to replace an LG phone tha... 99.9900000   \n",
              "22  Motorola  I purchased this phone for my AT&T phone repla... 99.9900000   \n",
              "\n",
              "    user_rating                                       review_title  \n",
              "14            1                                       Stupid phone  \n",
              "17            1                                      Phones locked  \n",
              "18            5                                  Excellent product  \n",
              "21            4                                          Nice, but  \n",
              "22            1  It seems it doesn't work with the existing AT&...  "
            ]
          },
          "metadata": {
            "tags": []
          },
          "execution_count": 37
        }
      ]
    },
    {
      "cell_type": "code",
      "metadata": {
        "colab": {
          "base_uri": "https://localhost:8080/"
        },
        "id": "cfotSPGjqxkl",
        "outputId": "e21c86dd-eccc-4973-824f-676e5e76fa70"
      },
      "source": [
        "final_df2.info()"
      ],
      "execution_count": 38,
      "outputs": [
        {
          "output_type": "stream",
          "text": [
            "<class 'pandas.core.frame.DataFrame'>\n",
            "Int64Index: 61225 entries, 14 to 67984\n",
            "Data columns (total 5 columns):\n",
            " #   Column        Non-Null Count  Dtype  \n",
            "---  ------        --------------  -----  \n",
            " 0   brand         61078 non-null  object \n",
            " 1   body          61207 non-null  object \n",
            " 2   price         61225 non-null  float64\n",
            " 3   user_rating   61225 non-null  int64  \n",
            " 4   review_title  61211 non-null  object \n",
            "dtypes: float64(1), int64(1), object(3)\n",
            "memory usage: 2.8+ MB\n"
          ],
          "name": "stdout"
        }
      ]
    },
    {
      "cell_type": "markdown",
      "metadata": {
        "id": "Gzo_rVT60fDf"
      },
      "source": [
        "### 4.13 Perform univariate analysis. Check distribution of price, user_rating"
      ]
    },
    {
      "cell_type": "code",
      "metadata": {
        "colab": {
          "base_uri": "https://localhost:8080/",
          "height": 282
        },
        "id": "F3vzILxZ0t0L",
        "outputId": "8f853442-4f97-4b23-e189-73fd1e193496"
      },
      "source": [
        "\n",
        "sns.scatterplot(x=final_df2.index, y=final_df2['price'],hue = final_df2['user_rating'])"
      ],
      "execution_count": 39,
      "outputs": [
        {
          "output_type": "execute_result",
          "data": {
            "text/plain": [
              "<matplotlib.axes._subplots.AxesSubplot at 0x7f07a70e2c10>"
            ]
          },
          "metadata": {
            "tags": []
          },
          "execution_count": 39
        },
        {
          "output_type": "display_data",
          "data": {
            "image/png": "[encoded data removed]",
            "text/plain": [
              "<Figure size 432x288 with 1 Axes>"
            ]
          },
          "metadata": {
            "tags": [],
            "needs_background": "light"
          }
        }
      ]
    },
    {
      "cell_type": "code",
      "metadata": {
        "colab": {
          "base_uri": "https://localhost:8080/",
          "height": 279
        },
        "id": "vGjSEer3gLUy",
        "outputId": "f2ae4b81-b655-47a2-b552-e0f405c934c3"
      },
      "source": [
        "final_df2['user_rating'].value_counts().plot(kind ='bar', color ='red')"
      ],
      "execution_count": 40,
      "outputs": [
        {
          "output_type": "execute_result",
          "data": {
            "text/plain": [
              "<matplotlib.axes._subplots.AxesSubplot at 0x7f07a7013f50>"
            ]
          },
          "metadata": {
            "tags": []
          },
          "execution_count": 40
        },
        {
          "output_type": "display_data",
          "data": {
            "image/png": "[encoded data removed]",
            "text/plain": [
              "<Figure size 432x288 with 1 Axes>"
            ]
          },
          "metadata": {
            "tags": [],
            "needs_background": "light"
          }
        }
      ]
    },
    {
      "cell_type": "code",
      "metadata": {
        "colab": {
          "base_uri": "https://localhost:8080/",
          "height": 296
        },
        "id": "nlr7039UgwdV",
        "outputId": "4510f5b6-ae3b-49b5-fce0-676de7bd8417"
      },
      "source": [
        "sns.distplot(final_df2['price'])"
      ],
      "execution_count": 41,
      "outputs": [
        {
          "output_type": "execute_result",
          "data": {
            "text/plain": [
              "<matplotlib.axes._subplots.AxesSubplot at 0x7f07a5785a50>"
            ]
          },
          "metadata": {
            "tags": []
          },
          "execution_count": 41
        },
        {
          "output_type": "display_data",
          "data": {
            "image/png": "[encoded data removed]",
            "text/plain": [
              "<Figure size 432x288 with 1 Axes>"
            ]
          },
          "metadata": {
            "tags": [],
            "needs_background": "light"
          }
        }
      ]
    },
    {
      "cell_type": "markdown",
      "metadata": {
        "id": "x0Y_kE9T0uAf"
      },
      "source": [
        "### 4.14 Create a new column called \"sentiment\". It should have value as 1 (positive) if the user_Rating is greater than 3, value as 0 (neutral) if the user_Rating == 3, and -1 (negative) is the user_Rating is less than 3."
      ]
    },
    {
      "cell_type": "code",
      "metadata": {
        "id": "0mG8H2Wbkbg6"
      },
      "source": [
        "# One way of doing it is through lambda function \n",
        "#final_df2['sentiment']= final_df2['user_rating'].apply(lambda x : 1 if x>3 else(0 if x==1 else -1) )"
      ],
      "execution_count": 42,
      "outputs": []
    },
    {
      "cell_type": "code",
      "metadata": {
        "colab": {
          "base_uri": "https://localhost:8080/",
          "height": 204
        },
        "id": "jGon-2xU1Ujb",
        "outputId": "79e5086c-8ae7-4cd7-8e8a-e1462996a648"
      },
      "source": [
        "# I am useing the below loc to implement the same\n",
        "final_df2.loc[final_df2['user_rating'] > 3, 'sentiment'] = 1\n",
        "final_df2.loc[final_df2['user_rating'] == 3, 'sentiment'] = 0\n",
        "final_df2.loc[final_df2['user_rating'] < 3, 'sentiment'] = -1\n",
        "final_df2.head()"
      ],
      "execution_count": 43,
      "outputs": [
        {
          "output_type": "execute_result",
          "data": {
            "text/html": [
              "<div>\n",
              "<style scoped>\n",
              "    .dataframe tbody tr th:only-of-type {\n",
              "        vertical-align: middle;\n",
              "    }\n",
              "\n",
              "    .dataframe tbody tr th {\n",
              "        vertical-align: top;\n",
              "    }\n",
              "\n",
              "    .dataframe thead th {\n",
              "        text-align: right;\n",
              "    }\n",
              "</style>\n",
              "<table border=\"1\" class=\"dataframe\">\n",
              "  <thead>\n",
              "    <tr style=\"text-align: right;\">\n",
              "      <th></th>\n",
              "      <th>brand</th>\n",
              "      <th>body</th>\n",
              "      <th>price</th>\n",
              "      <th>user_rating</th>\n",
              "      <th>review_title</th>\n",
              "      <th>sentiment</th>\n",
              "    </tr>\n",
              "  </thead>\n",
              "  <tbody>\n",
              "    <tr>\n",
              "      <th>14</th>\n",
              "      <td>Motorola</td>\n",
              "      <td>DON'T BUY OUT OF SERVICE</td>\n",
              "      <td>49.9500000</td>\n",
              "      <td>1</td>\n",
              "      <td>Stupid phone</td>\n",
              "      <td>-1.0000000</td>\n",
              "    </tr>\n",
              "    <tr>\n",
              "      <th>17</th>\n",
              "      <td>Motorola</td>\n",
              "      <td>1 star because the phones locked so I have to ...</td>\n",
              "      <td>49.9500000</td>\n",
              "      <td>1</td>\n",
              "      <td>Phones locked</td>\n",
              "      <td>-1.0000000</td>\n",
              "    </tr>\n",
              "    <tr>\n",
              "      <th>18</th>\n",
              "      <td>Motorola</td>\n",
              "      <td>The product has been very good. I had used thi...</td>\n",
              "      <td>49.9500000</td>\n",
              "      <td>5</td>\n",
              "      <td>Excellent product</td>\n",
              "      <td>1.0000000</td>\n",
              "    </tr>\n",
              "    <tr>\n",
              "      <th>21</th>\n",
              "      <td>Motorola</td>\n",
              "      <td>I bought this phone to replace an LG phone tha...</td>\n",
              "      <td>99.9900000</td>\n",
              "      <td>4</td>\n",
              "      <td>Nice, but</td>\n",
              "      <td>1.0000000</td>\n",
              "    </tr>\n",
              "    <tr>\n",
              "      <th>22</th>\n",
              "      <td>Motorola</td>\n",
              "      <td>I purchased this phone for my AT&amp;T phone repla...</td>\n",
              "      <td>99.9900000</td>\n",
              "      <td>1</td>\n",
              "      <td>It seems it doesn't work with the existing AT&amp;...</td>\n",
              "      <td>-1.0000000</td>\n",
              "    </tr>\n",
              "  </tbody>\n",
              "</table>\n",
              "</div>"
            ],
            "text/plain": [
              "       brand                                               body      price  \\\n",
              "14  Motorola                           DON'T BUY OUT OF SERVICE 49.9500000   \n",
              "17  Motorola  1 star because the phones locked so I have to ... 49.9500000   \n",
              "18  Motorola  The product has been very good. I had used thi... 49.9500000   \n",
              "21  Motorola  I bought this phone to replace an LG phone tha... 99.9900000   \n",
              "22  Motorola  I purchased this phone for my AT&T phone repla... 99.9900000   \n",
              "\n",
              "    user_rating                                       review_title  sentiment  \n",
              "14            1                                       Stupid phone -1.0000000  \n",
              "17            1                                      Phones locked -1.0000000  \n",
              "18            5                                  Excellent product  1.0000000  \n",
              "21            4                                          Nice, but  1.0000000  \n",
              "22            1  It seems it doesn't work with the existing AT&... -1.0000000  "
            ]
          },
          "metadata": {
            "tags": []
          },
          "execution_count": 43
        }
      ]
    },
    {
      "cell_type": "markdown",
      "metadata": {
        "id": "K4rxSZWp1VAb"
      },
      "source": [
        "### 4.15 Check frequency distribution of the 'sentiment'"
      ]
    },
    {
      "cell_type": "code",
      "metadata": {
        "colab": {
          "base_uri": "https://localhost:8080/",
          "height": 292
        },
        "id": "yt3gH7Iz1dVP",
        "outputId": "2052a3c0-3e14-40af-f445-a74eccee55a7"
      },
      "source": [
        "final_df2['sentiment'].value_counts().plot(kind ='bar')"
      ],
      "execution_count": 44,
      "outputs": [
        {
          "output_type": "execute_result",
          "data": {
            "text/plain": [
              "<matplotlib.axes._subplots.AxesSubplot at 0x7f07a7141510>"
            ]
          },
          "metadata": {
            "tags": []
          },
          "execution_count": 44
        },
        {
          "output_type": "display_data",
          "data": {
            "image/png": "[encoded data removed]",
            "text/plain": [
              "<Figure size 432x288 with 1 Axes>"
            ]
          },
          "metadata": {
            "tags": [],
            "needs_background": "light"
          }
        }
      ]
    },
    {
      "cell_type": "markdown",
      "metadata": {
        "id": "rK0KMghP1ddb"
      },
      "source": [
        "### 4.16 Perform bivariate analysis. Check correlation/crosstab between features and write your inferences."
      ]
    },
    {
      "cell_type": "code",
      "metadata": {
        "colab": {
          "base_uri": "https://localhost:8080/",
          "height": 292
        },
        "id": "scAV4fRg1nX0",
        "outputId": "024a7846-3733-415d-b7e2-d8c460bfaf38"
      },
      "source": [
        "final_df2[final_df2.brand == 'Samsung'].sentiment.value_counts().plot(kind ='bar')"
      ],
      "execution_count": 45,
      "outputs": [
        {
          "output_type": "execute_result",
          "data": {
            "text/plain": [
              "<matplotlib.axes._subplots.AxesSubplot at 0x7f079ce70590>"
            ]
          },
          "metadata": {
            "tags": []
          },
          "execution_count": 45
        },
        {
          "output_type": "display_data",
          "data": {
            "image/png": "[encoded data removed]",
            "text/plain": [
              "<Figure size 432x288 with 1 Axes>"
            ]
          },
          "metadata": {
            "tags": [],
            "needs_background": "light"
          }
        }
      ]
    },
    {
      "cell_type": "code",
      "metadata": {
        "colab": {
          "base_uri": "https://localhost:8080/",
          "height": 390
        },
        "id": "ciH1NnSZnFiB",
        "outputId": "bea21bfa-0d37-4524-8f7e-56f710bb7a9a"
      },
      "source": [
        "pd.crosstab(final_df2.brand, final_df2.sentiment)"
      ],
      "execution_count": 46,
      "outputs": [
        {
          "output_type": "execute_result",
          "data": {
            "text/html": [
              "<div>\n",
              "<style scoped>\n",
              "    .dataframe tbody tr th:only-of-type {\n",
              "        vertical-align: middle;\n",
              "    }\n",
              "\n",
              "    .dataframe tbody tr th {\n",
              "        vertical-align: top;\n",
              "    }\n",
              "\n",
              "    .dataframe thead th {\n",
              "        text-align: right;\n",
              "    }\n",
              "</style>\n",
              "<table border=\"1\" class=\"dataframe\">\n",
              "  <thead>\n",
              "    <tr style=\"text-align: right;\">\n",
              "      <th>sentiment</th>\n",
              "      <th>-1.0000000</th>\n",
              "      <th>0.0000000</th>\n",
              "      <th>1.0000000</th>\n",
              "    </tr>\n",
              "    <tr>\n",
              "      <th>brand</th>\n",
              "      <th></th>\n",
              "      <th></th>\n",
              "      <th></th>\n",
              "    </tr>\n",
              "  </thead>\n",
              "  <tbody>\n",
              "    <tr>\n",
              "      <th>ASUS</th>\n",
              "      <td>49</td>\n",
              "      <td>20</td>\n",
              "      <td>137</td>\n",
              "    </tr>\n",
              "    <tr>\n",
              "      <th>Apple</th>\n",
              "      <td>1320</td>\n",
              "      <td>307</td>\n",
              "      <td>3249</td>\n",
              "    </tr>\n",
              "    <tr>\n",
              "      <th>Google</th>\n",
              "      <td>804</td>\n",
              "      <td>207</td>\n",
              "      <td>2152</td>\n",
              "    </tr>\n",
              "    <tr>\n",
              "      <th>HUAWEI</th>\n",
              "      <td>261</td>\n",
              "      <td>105</td>\n",
              "      <td>1653</td>\n",
              "    </tr>\n",
              "    <tr>\n",
              "      <th>Motorola</th>\n",
              "      <td>1667</td>\n",
              "      <td>553</td>\n",
              "      <td>5494</td>\n",
              "    </tr>\n",
              "    <tr>\n",
              "      <th>Nokia</th>\n",
              "      <td>1437</td>\n",
              "      <td>467</td>\n",
              "      <td>2974</td>\n",
              "    </tr>\n",
              "    <tr>\n",
              "      <th>OnePlus</th>\n",
              "      <td>34</td>\n",
              "      <td>11</td>\n",
              "      <td>259</td>\n",
              "    </tr>\n",
              "    <tr>\n",
              "      <th>Samsung</th>\n",
              "      <td>7469</td>\n",
              "      <td>2030</td>\n",
              "      <td>21521</td>\n",
              "    </tr>\n",
              "    <tr>\n",
              "      <th>Sony</th>\n",
              "      <td>663</td>\n",
              "      <td>216</td>\n",
              "      <td>1812</td>\n",
              "    </tr>\n",
              "    <tr>\n",
              "      <th>Xiaomi</th>\n",
              "      <td>427</td>\n",
              "      <td>201</td>\n",
              "      <td>3579</td>\n",
              "    </tr>\n",
              "  </tbody>\n",
              "</table>\n",
              "</div>"
            ],
            "text/plain": [
              "sentiment  -1.0000000  0.0000000   1.0000000 \n",
              "brand                                        \n",
              "ASUS               49          20         137\n",
              "Apple            1320         307        3249\n",
              "Google            804         207        2152\n",
              "HUAWEI            261         105        1653\n",
              "Motorola         1667         553        5494\n",
              "Nokia            1437         467        2974\n",
              "OnePlus            34          11         259\n",
              "Samsung          7469        2030       21521\n",
              "Sony              663         216        1812\n",
              "Xiaomi            427         201        3579"
            ]
          },
          "metadata": {
            "tags": []
          },
          "execution_count": 46
        }
      ]
    },
    {
      "cell_type": "code",
      "metadata": {
        "colab": {
          "base_uri": "https://localhost:8080/",
          "height": 333
        },
        "id": "GP78eRzpnWra",
        "outputId": "8d81ef15-8aa3-46b5-f6d6-c1dfb64794a4"
      },
      "source": [
        "pd.crosstab(final_df2['brand'], final_df2['sentiment']).plot(kind='bar')"
      ],
      "execution_count": 47,
      "outputs": [
        {
          "output_type": "execute_result",
          "data": {
            "text/plain": [
              "<matplotlib.axes._subplots.AxesSubplot at 0x7f07aa08d890>"
            ]
          },
          "metadata": {
            "tags": []
          },
          "execution_count": 47
        },
        {
          "output_type": "display_data",
          "data": {
            "image/png": "[encoded data removed]",
            "text/plain": [
              "<Figure size 432x288 with 1 Axes>"
            ]
          },
          "metadata": {
            "tags": [],
            "needs_background": "light"
          }
        }
      ]
    },
    {
      "cell_type": "markdown",
      "metadata": {
        "id": "2Nzj7ZXVLakx"
      },
      "source": [
        "## 5. Text Preprocessing and Vectorization"
      ]
    },
    {
      "cell_type": "markdown",
      "metadata": {
        "id": "ZbC_RPndnlf3"
      },
      "source": [
        "We will analyze the 'body' and 'review_title' to gain more understanding.\n",
        "\n",
        "We will ppeform the below tasks\n",
        "\n",
        "- Convert the text into lowercase\n",
        "- Remove punctuation\n",
        "- Remove stopwords (English, from nltk corpus)\n",
        "- Remove other keywords like \"phone\" and brand name"
      ]
    },
    {
      "cell_type": "markdown",
      "metadata": {
        "id": "XnhMQsxz2DJH"
      },
      "source": [
        "### 5.1 Change the datatype of the 'body' column to 'str' and convert it into lowercase. Print any two samples and check the output."
      ]
    },
    {
      "cell_type": "code",
      "metadata": {
        "id": "1DbTf2yc2VOQ"
      },
      "source": [
        "final_df2['body'] = final_df2['body'].astype('str')\n"
      ],
      "execution_count": 48,
      "outputs": []
    },
    {
      "cell_type": "code",
      "metadata": {
        "id": "DsN0X8j-rZE9"
      },
      "source": [
        "final_df2['body'] = final_df2['body'].apply(lambda x: x.lower ())"
      ],
      "execution_count": 49,
      "outputs": []
    },
    {
      "cell_type": "code",
      "metadata": {
        "colab": {
          "base_uri": "https://localhost:8080/"
        },
        "id": "_Viplcj0rZH-",
        "outputId": "8e7d780d-8a0a-4cb3-d7f3-3b83c1f60d30"
      },
      "source": [
        "final_df2['body'].sample(2)"
      ],
      "execution_count": 50,
      "outputs": [
        {
          "output_type": "execute_result",
          "data": {
            "text/plain": [
              "63440    white trash presentation comes with half truth...\n",
              "34416                                      exelent phone !\n",
              "Name: body, dtype: object"
            ]
          },
          "metadata": {
            "tags": []
          },
          "execution_count": 50
        }
      ]
    },
    {
      "cell_type": "markdown",
      "metadata": {
        "id": "lsppV0X52VXf"
      },
      "source": [
        "### 5.2 Remove punctuations from the lowercased 'body' column and display at least two samples."
      ]
    },
    {
      "cell_type": "code",
      "metadata": {
        "colab": {
          "base_uri": "https://localhost:8080/"
        },
        "id": "lQXKc8et2onG",
        "outputId": "1328bb97-4275-4c8b-eef5-915094fe9ab5"
      },
      "source": [
        "import re\n",
        "final_df2['body'] = final_df2['body'].apply(lambda x: re.sub(r'[^\\w\\s]','',x))\n",
        "final_df2['body'].head(2)"
      ],
      "execution_count": 51,
      "outputs": [
        {
          "output_type": "execute_result",
          "data": {
            "text/plain": [
              "14                              dont buy out of service\n",
              "17    1 star because the phones locked so i have to ...\n",
              "Name: body, dtype: object"
            ]
          },
          "metadata": {
            "tags": []
          },
          "execution_count": 51
        }
      ]
    },
    {
      "cell_type": "code",
      "metadata": {
        "colab": {
          "base_uri": "https://localhost:8080/",
          "height": 111
        },
        "id": "B22D_9p-tPjf",
        "outputId": "efac5102-9309-444e-845e-d8d5bc2e710a"
      },
      "source": [
        "import string\n",
        "ignore_list = string.punctuation\n",
        "punct = str.maketrans('','',ignore_list)\n",
        "final_df2['body'] = final_df2['body'].apply(lambda x: x.translate(punct))\n",
        "final_df2.head(2)"
      ],
      "execution_count": 52,
      "outputs": [
        {
          "output_type": "execute_result",
          "data": {
            "text/html": [
              "<div>\n",
              "<style scoped>\n",
              "    .dataframe tbody tr th:only-of-type {\n",
              "        vertical-align: middle;\n",
              "    }\n",
              "\n",
              "    .dataframe tbody tr th {\n",
              "        vertical-align: top;\n",
              "    }\n",
              "\n",
              "    .dataframe thead th {\n",
              "        text-align: right;\n",
              "    }\n",
              "</style>\n",
              "<table border=\"1\" class=\"dataframe\">\n",
              "  <thead>\n",
              "    <tr style=\"text-align: right;\">\n",
              "      <th></th>\n",
              "      <th>brand</th>\n",
              "      <th>body</th>\n",
              "      <th>price</th>\n",
              "      <th>user_rating</th>\n",
              "      <th>review_title</th>\n",
              "      <th>sentiment</th>\n",
              "    </tr>\n",
              "  </thead>\n",
              "  <tbody>\n",
              "    <tr>\n",
              "      <th>14</th>\n",
              "      <td>Motorola</td>\n",
              "      <td>dont buy out of service</td>\n",
              "      <td>49.9500000</td>\n",
              "      <td>1</td>\n",
              "      <td>Stupid phone</td>\n",
              "      <td>-1.0000000</td>\n",
              "    </tr>\n",
              "    <tr>\n",
              "      <th>17</th>\n",
              "      <td>Motorola</td>\n",
              "      <td>1 star because the phones locked so i have to ...</td>\n",
              "      <td>49.9500000</td>\n",
              "      <td>1</td>\n",
              "      <td>Phones locked</td>\n",
              "      <td>-1.0000000</td>\n",
              "    </tr>\n",
              "  </tbody>\n",
              "</table>\n",
              "</div>"
            ],
            "text/plain": [
              "       brand                                               body      price  \\\n",
              "14  Motorola                            dont buy out of service 49.9500000   \n",
              "17  Motorola  1 star because the phones locked so i have to ... 49.9500000   \n",
              "\n",
              "    user_rating   review_title  sentiment  \n",
              "14            1   Stupid phone -1.0000000  \n",
              "17            1  Phones locked -1.0000000  "
            ]
          },
          "metadata": {
            "tags": []
          },
          "execution_count": 52
        }
      ]
    },
    {
      "cell_type": "markdown",
      "metadata": {
        "id": "8Zk7ja6A2owN"
      },
      "source": [
        "### 5.3 Remove stop words from the above pre-processed 'body' column and display at least two samples."
      ]
    },
    {
      "cell_type": "code",
      "metadata": {
        "colab": {
          "base_uri": "https://localhost:8080/"
        },
        "id": "1d-DhX_e2yQ-",
        "outputId": "c07a5a6e-907f-492f-cfc1-f5a0ed312c41"
      },
      "source": [
        "import nltk\n",
        "nltk.download('stopwords')\n",
        "from nltk.corpus import stopwords\n"
      ],
      "execution_count": 53,
      "outputs": [
        {
          "output_type": "stream",
          "text": [
            "[nltk_data] Downloading package stopwords to /root/nltk_data...\n",
            "[nltk_data]   Unzipping corpora/stopwords.zip.\n"
          ],
          "name": "stdout"
        }
      ]
    },
    {
      "cell_type": "code",
      "metadata": {
        "colab": {
          "base_uri": "https://localhost:8080/"
        },
        "id": "PxNVU8lNur8f",
        "outputId": "b6fca7e7-6472-4259-b6d9-3e60ce9e6418"
      },
      "source": [
        "stop = set(stopwords.words('english'))\n",
        "print(stop)"
      ],
      "execution_count": 54,
      "outputs": [
        {
          "output_type": "stream",
          "text": [
            "{'mustn', 'y', 'against', 'ma', 'and', 'at', 'them', 'being', 'after', 'below', 'herself', 'having', \"you're\", 'yourself', 't', \"it's\", 'don', 'himself', 'into', 'aren', 'so', \"doesn't\", 'too', 'mightn', 're', 'do', 'itself', 'these', 'he', 'myself', \"weren't\", 'or', 'above', 'few', 'his', \"she's\", \"shan't\", 'haven', 'ours', 'through', 'did', 'she', 'under', \"wasn't\", 'once', 'just', 'i', \"aren't\", 'only', 'me', 'have', 'be', 'd', 'there', 'on', 'some', 'isn', 've', 'themselves', \"wouldn't\", 'hadn', 'has', 'off', 's', 'any', 'from', 'down', 'than', 'out', 'ain', \"hasn't\", 'over', 'does', 'an', 'most', 'this', 'o', 'my', 'such', \"won't\", 'are', 'then', 'no', \"hadn't\", 'how', 'wasn', 'wouldn', 'a', 'couldn', \"mustn't\", 'by', 'its', 'all', 'll', 'nor', 'other', 'again', 'yours', 'each', 'needn', 'was', 'if', 'him', 'didn', 'when', 'doesn', 'until', 'which', 'can', 'we', 'very', \"you've\", 'hers', 'further', 'had', 'yourselves', 'their', 'in', \"isn't\", 'were', 'is', 'm', 'that', 'those', 'her', \"should've\", 'between', 'during', 'what', 'they', 'should', 'because', 'hasn', \"couldn't\", \"haven't\", 'theirs', \"that'll\", 'you', 'both', 'now', \"needn't\", \"mightn't\", 'doing', 'been', 'but', 'same', \"you'd\", 'more', 'it', 'am', 'whom', 'your', 'as', 'weren', 'for', 'our', 'to', \"shouldn't\", 'not', 'about', 'shan', \"you'll\", 'why', 'with', 'ourselves', 'who', 'will', 'up', 'of', 'before', 'where', \"didn't\", 'here', 'own', 'shouldn', 'won', \"don't\", 'while', 'the'}\n"
          ],
          "name": "stdout"
        }
      ]
    },
    {
      "cell_type": "code",
      "metadata": {
        "colab": {
          "base_uri": "https://localhost:8080/"
        },
        "id": "dSVp4ts3vQ1k",
        "outputId": "f8b400b6-dbb5-421e-e9cb-5717980c0190"
      },
      "source": [
        "final_df2['body'] = final_df2['body'].apply(lambda words : ' '.join(word for word in words.split() if word not in stop))\n",
        "final_df2['body'].head(2)"
      ],
      "execution_count": 55,
      "outputs": [
        {
          "output_type": "execute_result",
          "data": {
            "text/plain": [
              "14                                   dont buy service\n",
              "17    1 star phones locked pay additional fees unlock\n",
              "Name: body, dtype: object"
            ]
          },
          "metadata": {
            "tags": []
          },
          "execution_count": 55
        }
      ]
    },
    {
      "cell_type": "code",
      "metadata": {
        "colab": {
          "base_uri": "https://localhost:8080/",
          "height": 111
        },
        "id": "cT-hzKHhwEtw",
        "outputId": "87afc4dc-61d1-4491-f924-2e08dd0cf70d"
      },
      "source": [
        "final_df2.head(2)"
      ],
      "execution_count": 56,
      "outputs": [
        {
          "output_type": "execute_result",
          "data": {
            "text/html": [
              "<div>\n",
              "<style scoped>\n",
              "    .dataframe tbody tr th:only-of-type {\n",
              "        vertical-align: middle;\n",
              "    }\n",
              "\n",
              "    .dataframe tbody tr th {\n",
              "        vertical-align: top;\n",
              "    }\n",
              "\n",
              "    .dataframe thead th {\n",
              "        text-align: right;\n",
              "    }\n",
              "</style>\n",
              "<table border=\"1\" class=\"dataframe\">\n",
              "  <thead>\n",
              "    <tr style=\"text-align: right;\">\n",
              "      <th></th>\n",
              "      <th>brand</th>\n",
              "      <th>body</th>\n",
              "      <th>price</th>\n",
              "      <th>user_rating</th>\n",
              "      <th>review_title</th>\n",
              "      <th>sentiment</th>\n",
              "    </tr>\n",
              "  </thead>\n",
              "  <tbody>\n",
              "    <tr>\n",
              "      <th>14</th>\n",
              "      <td>Motorola</td>\n",
              "      <td>dont buy service</td>\n",
              "      <td>49.9500000</td>\n",
              "      <td>1</td>\n",
              "      <td>Stupid phone</td>\n",
              "      <td>-1.0000000</td>\n",
              "    </tr>\n",
              "    <tr>\n",
              "      <th>17</th>\n",
              "      <td>Motorola</td>\n",
              "      <td>1 star phones locked pay additional fees unlock</td>\n",
              "      <td>49.9500000</td>\n",
              "      <td>1</td>\n",
              "      <td>Phones locked</td>\n",
              "      <td>-1.0000000</td>\n",
              "    </tr>\n",
              "  </tbody>\n",
              "</table>\n",
              "</div>"
            ],
            "text/plain": [
              "       brand                                             body      price  \\\n",
              "14  Motorola                                 dont buy service 49.9500000   \n",
              "17  Motorola  1 star phones locked pay additional fees unlock 49.9500000   \n",
              "\n",
              "    user_rating   review_title  sentiment  \n",
              "14            1   Stupid phone -1.0000000  \n",
              "17            1  Phones locked -1.0000000  "
            ]
          },
          "metadata": {
            "tags": []
          },
          "execution_count": 56
        }
      ]
    },
    {
      "cell_type": "markdown",
      "metadata": {
        "id": "TQNvXay42yaQ"
      },
      "source": [
        "### 5.4 Apply lemmatisation on the above preprocessed text and display a few samples"
      ]
    },
    {
      "cell_type": "code",
      "metadata": {
        "colab": {
          "base_uri": "https://localhost:8080/"
        },
        "id": "oQ1VfFaa3DET",
        "outputId": "4e208047-a367-4ee4-eddf-e25f33648a33"
      },
      "source": [
        "nltk.download('wordnet')\n",
        "nltk.download('punkt')\n",
        "lemmatizer = nltk.stem.WordNetLemmatizer()\n",
        "def lemmatize_text(text):\n",
        "  return ' '.join(lemmatizer.lemmatize(word) for word in nltk.word_tokenize(text))"
      ],
      "execution_count": 57,
      "outputs": [
        {
          "output_type": "stream",
          "text": [
            "[nltk_data] Downloading package wordnet to /root/nltk_data...\n",
            "[nltk_data]   Unzipping corpora/wordnet.zip.\n",
            "[nltk_data] Downloading package punkt to /root/nltk_data...\n",
            "[nltk_data]   Unzipping tokenizers/punkt.zip.\n"
          ],
          "name": "stdout"
        }
      ]
    },
    {
      "cell_type": "code",
      "metadata": {
        "colab": {
          "base_uri": "https://localhost:8080/",
          "height": 111
        },
        "id": "lqVm8UM_wy5a",
        "outputId": "894ab8ff-0d10-4d2b-db73-b7fafe4713e4"
      },
      "source": [
        "final_df2['body'] = final_df2['body'].apply(lemmatize_text)\n",
        "final_df2.head(2)"
      ],
      "execution_count": 58,
      "outputs": [
        {
          "output_type": "execute_result",
          "data": {
            "text/html": [
              "<div>\n",
              "<style scoped>\n",
              "    .dataframe tbody tr th:only-of-type {\n",
              "        vertical-align: middle;\n",
              "    }\n",
              "\n",
              "    .dataframe tbody tr th {\n",
              "        vertical-align: top;\n",
              "    }\n",
              "\n",
              "    .dataframe thead th {\n",
              "        text-align: right;\n",
              "    }\n",
              "</style>\n",
              "<table border=\"1\" class=\"dataframe\">\n",
              "  <thead>\n",
              "    <tr style=\"text-align: right;\">\n",
              "      <th></th>\n",
              "      <th>brand</th>\n",
              "      <th>body</th>\n",
              "      <th>price</th>\n",
              "      <th>user_rating</th>\n",
              "      <th>review_title</th>\n",
              "      <th>sentiment</th>\n",
              "    </tr>\n",
              "  </thead>\n",
              "  <tbody>\n",
              "    <tr>\n",
              "      <th>14</th>\n",
              "      <td>Motorola</td>\n",
              "      <td>dont buy service</td>\n",
              "      <td>49.9500000</td>\n",
              "      <td>1</td>\n",
              "      <td>Stupid phone</td>\n",
              "      <td>-1.0000000</td>\n",
              "    </tr>\n",
              "    <tr>\n",
              "      <th>17</th>\n",
              "      <td>Motorola</td>\n",
              "      <td>1 star phone locked pay additional fee unlock</td>\n",
              "      <td>49.9500000</td>\n",
              "      <td>1</td>\n",
              "      <td>Phones locked</td>\n",
              "      <td>-1.0000000</td>\n",
              "    </tr>\n",
              "  </tbody>\n",
              "</table>\n",
              "</div>"
            ],
            "text/plain": [
              "       brand                                           body      price  \\\n",
              "14  Motorola                               dont buy service 49.9500000   \n",
              "17  Motorola  1 star phone locked pay additional fee unlock 49.9500000   \n",
              "\n",
              "    user_rating   review_title  sentiment  \n",
              "14            1   Stupid phone -1.0000000  \n",
              "17            1  Phones locked -1.0000000  "
            ]
          },
          "metadata": {
            "tags": []
          },
          "execution_count": 58
        }
      ]
    },
    {
      "cell_type": "markdown",
      "metadata": {
        "id": "OzweL_fA3DiN"
      },
      "source": [
        "### 5.5 Write a function to check word frequency of the text"
      ]
    },
    {
      "cell_type": "code",
      "metadata": {
        "id": "3epFOgVxyRDK"
      },
      "source": [
        "# This question is N/A as instructed by Lab instructor and class coordinator"
      ],
      "execution_count": 58,
      "outputs": []
    },
    {
      "cell_type": "code",
      "metadata": {
        "id": "MzIAyX3N6lz5"
      },
      "source": [
        ""
      ],
      "execution_count": 58,
      "outputs": []
    },
    {
      "cell_type": "markdown",
      "metadata": {
        "id": "s0UgcEo_6l8O"
      },
      "source": [
        "### 5.6 Check word frequency of review having top ratings (sentiment = 1) and display output of few samples"
      ]
    },
    {
      "cell_type": "code",
      "metadata": {
        "id": "BLEEFEmv60mU"
      },
      "source": [
        "# This question is N/A as instructed by Lab instructor and class coordinator"
      ],
      "execution_count": 58,
      "outputs": []
    },
    {
      "cell_type": "markdown",
      "metadata": {
        "id": "9UbdTGsv60t1"
      },
      "source": [
        "### 5.7 Initialize tf-idf vectorizer and transform the preprocessed body text"
      ]
    },
    {
      "cell_type": "code",
      "metadata": {
        "id": "_Jfo6go_69yh"
      },
      "source": [
        "from sklearn.feature_extraction.text import TfidfVectorizer\n",
        "tfidf_vectorizer = TfidfVectorizer()"
      ],
      "execution_count": 59,
      "outputs": []
    },
    {
      "cell_type": "code",
      "metadata": {
        "id": "XiIchhJvyk4K"
      },
      "source": [
        "transformed_text = tfidf_vectorizer.fit_transform(final_df2['body'])"
      ],
      "execution_count": 60,
      "outputs": []
    },
    {
      "cell_type": "markdown",
      "metadata": {
        "id": "5dqPXETLKN0h"
      },
      "source": [
        "### 5.8 Segregate the data into dependent (sentiment) and independent (transformed body using tf-idf) features for building a classifier. "
      ]
    },
    {
      "cell_type": "code",
      "metadata": {
        "id": "mpOLAYn07W6F"
      },
      "source": [
        "y1 = final_df2['sentiment']\n",
        "y2 = final_df2['user_rating']"
      ],
      "execution_count": 61,
      "outputs": []
    },
    {
      "cell_type": "markdown",
      "metadata": {
        "id": "4K03FO0q7XBP"
      },
      "source": [
        "### 5.9 Split the data into Train & Test Sets"
      ]
    },
    {
      "cell_type": "code",
      "metadata": {
        "id": "D548-7cE7dZa"
      },
      "source": [
        "from sklearn.model_selection import train_test_split\n",
        "X_train, X_test, y1_train, y1_test = train_test_split(transformed_text, y1, stratify = y1, test_size = 0.3, random_state = 42)\n",
        "X_train, X_test, y2_train, y2_test = train_test_split(transformed_text, y1, stratify = y2, test_size = 0.3, random_state = 42)"
      ],
      "execution_count": 62,
      "outputs": []
    },
    {
      "cell_type": "markdown",
      "metadata": {
        "id": "rhD1a-beKvE7"
      },
      "source": [
        "## 6. Model building"
      ]
    },
    {
      "cell_type": "markdown",
      "metadata": {
        "id": "UPFovmN03exD"
      },
      "source": [
        "### 6.1 Build a random forest classifier to predict the 'sentiment'\n",
        "### 6.2 Predict on test set\n",
        "### 6.3 Check accuracy and confusion matrix"
      ]
    },
    {
      "cell_type": "code",
      "metadata": {
        "colab": {
          "base_uri": "https://localhost:8080/"
        },
        "id": "y0ytdD-_30P9",
        "outputId": "8cfb7c51-a266-46c2-d882-a194bf248b82"
      },
      "source": [
        "from sklearn.ensemble import RandomForestClassifier\n",
        "randomforrest = RandomForestClassifier()\n",
        "\n",
        "randomforrest.fit(X_train, y1_train)\n",
        "\n",
        "print(\"Train Score  : \", randomforrest.score(X_train, y1_train))"
      ],
      "execution_count": 63,
      "outputs": [
        {
          "output_type": "stream",
          "text": [
            "Train Score  :  0.9473831579438599\n"
          ],
          "name": "stdout"
        }
      ]
    },
    {
      "cell_type": "code",
      "metadata": {
        "id": "NJ6Ke4hl30Zk",
        "colab": {
          "base_uri": "https://localhost:8080/"
        },
        "outputId": "02297288-a712-43fb-ddea-ec7e969d2095"
      },
      "source": [
        "print(\"Test Score  : \", randomforrest.score(X_test, y1_test))"
      ],
      "execution_count": 64,
      "outputs": [
        {
          "output_type": "stream",
          "text": [
            "Test Score  :  0.6820557491289199\n"
          ],
          "name": "stdout"
        }
      ]
    },
    {
      "cell_type": "code",
      "metadata": {
        "id": "QwR8YYwr0pkA",
        "colab": {
          "base_uri": "https://localhost:8080/"
        },
        "outputId": "65b19f7d-14ff-4c3b-bd87-e966f685dba3"
      },
      "source": [
        "from sklearn.metrics import confusion_matrix\n",
        "pred = randomforrest.predict(X_test)\n",
        "print(confusion_matrix(y1_test,pred))"
      ],
      "execution_count": 66,
      "outputs": [
        {
          "output_type": "stream",
          "text": [
            "[[  117    26  4105]\n",
            " [   52    12  1174]\n",
            " [  408    75 12399]]\n"
          ],
          "name": "stdout"
        }
      ]
    },
    {
      "cell_type": "code",
      "metadata": {
        "id": "3Kcki0ew0_wS",
        "colab": {
          "base_uri": "https://localhost:8080/"
        },
        "outputId": "15da6a7c-a3fc-4576-802c-8cb5170cca2e"
      },
      "source": [
        "from sklearn.metrics import classification_report\n",
        "print(classification_report(y1_test,pred))"
      ],
      "execution_count": 67,
      "outputs": [
        {
          "output_type": "stream",
          "text": [
            "              precision    recall  f1-score   support\n",
            "\n",
            "        -1.0       0.20      0.03      0.05      4248\n",
            "         0.0       0.11      0.01      0.02      1238\n",
            "         1.0       0.70      0.96      0.81     12882\n",
            "\n",
            "    accuracy                           0.68     18368\n",
            "   macro avg       0.34      0.33      0.29     18368\n",
            "weighted avg       0.55      0.68      0.58     18368\n",
            "\n"
          ],
          "name": "stdout"
        }
      ]
    },
    {
      "cell_type": "markdown",
      "metadata": {
        "id": "Ey7an7ukLxWB"
      },
      "source": [
        "## 7. Write your conclusion"
      ]
    },
    {
      "cell_type": "markdown",
      "metadata": {
        "id": "UEz68jri5ZjR"
      },
      "source": [
        "Random forrest classiier gave a 68% accuracy. Macro avg is low, so data is imbalanced across the three classes. We can see that is true becuse there are very few records for Neutral (zero) value of sentiment."
      ]
    },
    {
      "cell_type": "code",
      "metadata": {
        "id": "UXx4D5oG5rQ_"
      },
      "source": [
        ""
      ],
      "execution_count": null,
      "outputs": []
    }
  ]
}