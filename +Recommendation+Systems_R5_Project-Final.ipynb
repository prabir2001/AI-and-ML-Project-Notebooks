{
 "cells": [
  {
   "cell_type": "markdown",
   "metadata": {},
   "source": [
    "### Domain : E-commerce\n",
    "\n",
    "### Context :\n",
    "Everyday a million products are being recommended to users based on\n",
    "popularity and other metrics on e-commerce websites. The most popular e-commerce website boosts average order value by 50%, increases revenues by 300%, and improves conversion. In addition to being a powerful tool for increasing revenues, product recommendations are so essential that customers now expect to see similar features on all other eCommerce sites.\n",
    "\n",
    "### Data Description :\n",
    "Data columns- First three columns are userId, productId, and ratings and the fourth column is timestamp. You can discard the timestamp column as in this case you may not need to use it.\n",
    "\n",
    "### Source :\n",
    "Amazon Reviews data (http://jmcauley.ucsd.edu/data/amazon/) The repository has several datasets. For this case study, we are using the Electronics\n",
    "dataset.\n",
    "\n",
    "### Learning Outcomes :\n",
    "● ExploratoryDataAnalysis\n",
    "● DataWrangling\n",
    "● BuildaPopularityrecommendermodel \n",
    "● BuildCollaborativeFilteringmodel\n",
    "\n",
    "### Objective : \n",
    "To make a recommendation system that recommends at least five(5) new products based on the user's habits."
   ]
  },
  {
   "cell_type": "markdown",
   "metadata": {},
   "source": [
    "### Criteria\tPoints :\n",
    "\n",
    "Read and explore the given dataset. ( Rename column/add headers, plot histograms, find data characteristics)\n",
    "10\n",
    "\n",
    "Take a subset of the dataset to make it less sparse/ denser.\n",
    "5\n",
    "\n",
    "Build Popularity Recommender model\n",
    "10\n",
    "\n",
    "Split the data randomly into train and test dataset\n",
    "2\n",
    "\n",
    "Build Collaborative Filtering model\n",
    "10\n",
    "\n",
    "Evaluate the above model\n",
    "3\n",
    "\n",
    "Get top - K ( K = 5) recommendations. Recommend 5 new products\n",
    "10\n",
    "\n",
    "Summarise your insights\n",
    "10"
   ]
  },
  {
   "cell_type": "markdown",
   "metadata": {},
   "source": [
    "### 1. Read and explore the given dataset. ( Rename column/add headers, plot histograms, find data characteristics)"
   ]
  },
  {
   "cell_type": "code",
   "execution_count": 1,
   "metadata": {},
   "outputs": [
    {
     "data": {
      "text/html": [
       "<div>\n",
       "<style scoped>\n",
       "    .dataframe tbody tr th:only-of-type {\n",
       "        vertical-align: middle;\n",
       "    }\n",
       "\n",
       "    .dataframe tbody tr th {\n",
       "        vertical-align: top;\n",
       "    }\n",
       "\n",
       "    .dataframe thead th {\n",
       "        text-align: right;\n",
       "    }\n",
       "</style>\n",
       "<table border=\"1\" class=\"dataframe\">\n",
       "  <thead>\n",
       "    <tr style=\"text-align: right;\">\n",
       "      <th></th>\n",
       "      <th>user_id</th>\n",
       "      <th>prod_id</th>\n",
       "      <th>ratings</th>\n",
       "      <th>timestamp</th>\n",
       "    </tr>\n",
       "  </thead>\n",
       "  <tbody>\n",
       "    <tr>\n",
       "      <th>0</th>\n",
       "      <td>A3L1GVWVJKWZZS</td>\n",
       "      <td>B0058UUR6E</td>\n",
       "      <td>5.0</td>\n",
       "      <td>1364774400</td>\n",
       "    </tr>\n",
       "    <tr>\n",
       "      <th>1</th>\n",
       "      <td>A08831071BVKZMKNCPI5S</td>\n",
       "      <td>B009ID0VVS</td>\n",
       "      <td>5.0</td>\n",
       "      <td>1357257600</td>\n",
       "    </tr>\n",
       "    <tr>\n",
       "      <th>2</th>\n",
       "      <td>A1SINU2I4IOPNU</td>\n",
       "      <td>B000GBO9IM</td>\n",
       "      <td>4.0</td>\n",
       "      <td>1358121600</td>\n",
       "    </tr>\n",
       "    <tr>\n",
       "      <th>3</th>\n",
       "      <td>A3P3P31EEOX2BD</td>\n",
       "      <td>B00CDCIOHO</td>\n",
       "      <td>3.0</td>\n",
       "      <td>1404950400</td>\n",
       "    </tr>\n",
       "    <tr>\n",
       "      <th>4</th>\n",
       "      <td>A3DBLJ3MPBJQMN</td>\n",
       "      <td>B000MS3VGA</td>\n",
       "      <td>5.0</td>\n",
       "      <td>1294444800</td>\n",
       "    </tr>\n",
       "  </tbody>\n",
       "</table>\n",
       "</div>"
      ],
      "text/plain": [
       "                 user_id     prod_id  ratings   timestamp\n",
       "0         A3L1GVWVJKWZZS  B0058UUR6E      5.0  1364774400\n",
       "1  A08831071BVKZMKNCPI5S  B009ID0VVS      5.0  1357257600\n",
       "2         A1SINU2I4IOPNU  B000GBO9IM      4.0  1358121600\n",
       "3         A3P3P31EEOX2BD  B00CDCIOHO      3.0  1404950400\n",
       "4         A3DBLJ3MPBJQMN  B000MS3VGA      5.0  1294444800"
      ]
     },
     "execution_count": 1,
     "metadata": {},
     "output_type": "execute_result"
    }
   ],
   "source": [
    "#import required libraries\n",
    "import numpy as np  \n",
    "import pandas as pd\n",
    "\n",
    "#read the data\n",
    "#column_names = ['userID','productID','ratings','timestamp']\n",
    "#df = pd.read_csv(\"ratings_Electronics_sample.csv\",names = column_names) \n",
    "\n",
    "df1 = pd.read_csv(\"Electronic_dataset.csv\") \n",
    "\n",
    "#check dataset head\n",
    "df1.head() "
   ]
  },
  {
   "cell_type": "code",
   "execution_count": 2,
   "metadata": {},
   "outputs": [],
   "source": [
    "#dropping timestamp\n",
    "df1.drop('timestamp', axis = 1, inplace = True)"
   ]
  },
  {
   "cell_type": "code",
   "execution_count": 3,
   "metadata": {},
   "outputs": [
    {
     "data": {
      "text/plain": [
       "(500000, 3)"
      ]
     },
     "execution_count": 3,
     "metadata": {},
     "output_type": "execute_result"
    }
   ],
   "source": [
    "df1.shape"
   ]
  },
  {
   "cell_type": "markdown",
   "metadata": {},
   "source": [
    "The dataset is large , has 5 lac records"
   ]
  },
  {
   "cell_type": "code",
   "execution_count": 4,
   "metadata": {},
   "outputs": [
    {
     "name": "stdout",
     "output_type": "stream",
     "text": [
      "<class 'pandas.core.frame.DataFrame'>\n",
      "RangeIndex: 500000 entries, 0 to 499999\n",
      "Data columns (total 3 columns):\n",
      "user_id    500000 non-null object\n",
      "prod_id    500000 non-null object\n",
      "ratings    500000 non-null float64\n",
      "dtypes: float64(1), object(2)\n",
      "memory usage: 11.4+ MB\n"
     ]
    }
   ],
   "source": [
    "df1.info()"
   ]
  },
  {
   "cell_type": "code",
   "execution_count": 5,
   "metadata": {},
   "outputs": [
    {
     "data": {
      "text/plain": [
       "B0074BW614    1138\n",
       "B00DR0PDNE    1094\n",
       "B007WTAJTO     883\n",
       "B0019EHU8G     774\n",
       "B006GWO5WK     770\n",
       "              ... \n",
       "B009S0Q4RQ       1\n",
       "B004B8VIRG       1\n",
       "B00AWA1DH2       1\n",
       "B00005UNA8       1\n",
       "B00BSLUP6Y       1\n",
       "Name: prod_id, Length: 130138, dtype: int64"
      ]
     },
     "execution_count": 5,
     "metadata": {},
     "output_type": "execute_result"
    }
   ],
   "source": [
    "# list productwise entries in dataframe\n",
    "df1['prod_id'].value_counts(ascending= False)"
   ]
  },
  {
   "cell_type": "code",
   "execution_count": 6,
   "metadata": {},
   "outputs": [
    {
     "data": {
      "text/plain": [
       "array([5., 4., 3., 1., 2.])"
      ]
     },
     "execution_count": 6,
     "metadata": {},
     "output_type": "execute_result"
    }
   ],
   "source": [
    "# Lets check unique values or ratings\n",
    "df1.ratings.unique()"
   ]
  },
  {
   "cell_type": "markdown",
   "metadata": {},
   "source": [
    "So there are 5 unique ratings given by users - 1 through 5"
   ]
  },
  {
   "cell_type": "code",
   "execution_count": 7,
   "metadata": {},
   "outputs": [
    {
     "data": {
      "text/html": [
       "<div>\n",
       "<style scoped>\n",
       "    .dataframe tbody tr th:only-of-type {\n",
       "        vertical-align: middle;\n",
       "    }\n",
       "\n",
       "    .dataframe tbody tr th {\n",
       "        vertical-align: top;\n",
       "    }\n",
       "\n",
       "    .dataframe thead th {\n",
       "        text-align: right;\n",
       "    }\n",
       "</style>\n",
       "<table border=\"1\" class=\"dataframe\">\n",
       "  <thead>\n",
       "    <tr style=\"text-align: right;\">\n",
       "      <th></th>\n",
       "      <th>count</th>\n",
       "      <th>mean</th>\n",
       "      <th>std</th>\n",
       "      <th>min</th>\n",
       "      <th>25%</th>\n",
       "      <th>50%</th>\n",
       "      <th>75%</th>\n",
       "      <th>max</th>\n",
       "    </tr>\n",
       "  </thead>\n",
       "  <tbody>\n",
       "    <tr>\n",
       "      <th>ratings</th>\n",
       "      <td>500000.0</td>\n",
       "      <td>4.013172</td>\n",
       "      <td>1.379996</td>\n",
       "      <td>1.0</td>\n",
       "      <td>3.0</td>\n",
       "      <td>5.0</td>\n",
       "      <td>5.0</td>\n",
       "      <td>5.0</td>\n",
       "    </tr>\n",
       "  </tbody>\n",
       "</table>\n",
       "</div>"
      ],
      "text/plain": [
       "            count      mean       std  min  25%  50%  75%  max\n",
       "ratings  500000.0  4.013172  1.379996  1.0  3.0  5.0  5.0  5.0"
      ]
     },
     "execution_count": 7,
     "metadata": {},
     "output_type": "execute_result"
    }
   ],
   "source": [
    "df1.describe().T"
   ]
  },
  {
   "cell_type": "code",
   "execution_count": 8,
   "metadata": {},
   "outputs": [
    {
     "data": {
      "text/plain": [
       "array([[<matplotlib.axes._subplots.AxesSubplot object at 0x7fc4b7488f60>]],\n",
       "      dtype=object)"
      ]
     },
     "execution_count": 8,
     "metadata": {},
     "output_type": "execute_result"
    },
    {
     "data": {
      "image/png": "[encoded data removed]",
      "text/plain": [
       "<Figure size 432x288 with 1 Axes>"
      ]
     },
     "metadata": {
      "needs_background": "light"
     },
     "output_type": "display_data"
    }
   ],
   "source": [
    "df1.hist()"
   ]
  },
  {
   "cell_type": "markdown",
   "metadata": {},
   "source": [
    "It is evident that most coomon rating given is 5, followed by 4 and 1"
   ]
  },
  {
   "cell_type": "code",
   "execution_count": 9,
   "metadata": {},
   "outputs": [
    {
     "data": {
      "text/plain": [
       "448368"
      ]
     },
     "execution_count": 9,
     "metadata": {},
     "output_type": "execute_result"
    }
   ],
   "source": [
    "# count unique users in the dataset\n",
    "users = df1['user_id'].unique()\n",
    "len(users)"
   ]
  },
  {
   "cell_type": "markdown",
   "metadata": {},
   "source": [
    "there are 448368 unique user IDs"
   ]
  },
  {
   "cell_type": "code",
   "execution_count": 10,
   "metadata": {},
   "outputs": [
    {
     "data": {
      "text/plain": [
       "130138"
      ]
     },
     "execution_count": 10,
     "metadata": {},
     "output_type": "execute_result"
    }
   ],
   "source": [
    "# count unique products in the dataset\n",
    "products = df1['prod_id'].unique()\n",
    "len(products)"
   ]
  },
  {
   "cell_type": "markdown",
   "metadata": {},
   "source": [
    "and there are 130138 unique product Ids"
   ]
  },
  {
   "cell_type": "code",
   "execution_count": 11,
   "metadata": {},
   "outputs": [
    {
     "data": {
      "text/plain": [
       "prod_id\n",
       "0439886341    1.0\n",
       "0528881469    5.0\n",
       "0594012015    5.0\n",
       "0594033926    5.0\n",
       "0594451647    5.0\n",
       "Name: ratings, dtype: float64"
      ]
     },
     "execution_count": 11,
     "metadata": {},
     "output_type": "execute_result"
    }
   ],
   "source": [
    "#Lets check mean ratings per product\n",
    "df1.groupby('prod_id')['ratings'].mean().head()  "
   ]
  },
  {
   "cell_type": "code",
   "execution_count": 12,
   "metadata": {},
   "outputs": [
    {
     "data": {
      "text/plain": [
       "A680RUE1FDO8B     36\n",
       "A3OXHLG6DIBRW8    34\n",
       "ADLVFFE4VBT8      30\n",
       "A5JLAU2ARJ0BO     29\n",
       "A2NOW4U7W3F7RI    28\n",
       "A231WM2Z2JL0U3    24\n",
       "A2AY4YUOX2N1BQ    23\n",
       "A6FIAB28IS79      23\n",
       "A4WEZJOIZIV4U     22\n",
       "A1ODOGXEYECQQ8    21\n",
       "Name: user_id, dtype: int64"
      ]
     },
     "execution_count": 12,
     "metadata": {},
     "output_type": "execute_result"
    }
   ],
   "source": [
    "# Lets check Top 10 users who rated most products\n",
    "counts = df1['user_id'].value_counts(ascending= False)\n",
    "counts[:10]"
   ]
  },
  {
   "cell_type": "markdown",
   "metadata": {},
   "source": [
    "So the user A680RUE1FDO8B has rated highest numner of products (36)"
   ]
  },
  {
   "cell_type": "markdown",
   "metadata": {},
   "source": [
    "### 2 Take a subset of the dataset to make it less sparse/ denser."
   ]
  },
  {
   "cell_type": "code",
   "execution_count": 13,
   "metadata": {},
   "outputs": [
    {
     "name": "stdout",
     "output_type": "stream",
     "text": [
      "Number of users who have rated 3 or more items = 30603\n",
      "Number of unique users in the new set  =  8109\n",
      "Number of unique products in the new set =  19900\n"
     ]
    }
   ],
   "source": [
    "# Since the initial dataset is sparce, take only users who have rated 3 or more items to make it less sparse\n",
    "\n",
    "df1_final=df1[df1.user_id.isin(counts[counts>= 3].index)]\n",
    "print('Number of users who have rated 3 or more items =', len(df1_final))\n",
    "print('Number of unique users in the new set  = ', df1_final['user_id'].nunique())\n",
    "print('Number of unique products in the new set = ', df1_final['prod_id'].nunique())"
   ]
  },
  {
   "cell_type": "code",
   "execution_count": 14,
   "metadata": {},
   "outputs": [
    {
     "data": {
      "text/plain": [
       "(30603, 3)"
      ]
     },
     "execution_count": 14,
     "metadata": {},
     "output_type": "execute_result"
    }
   ],
   "source": [
    "df1_final.shape"
   ]
  },
  {
   "cell_type": "markdown",
   "metadata": {},
   "source": [
    "This new dataset has only 30603 records and contains users who have atleast rated 3 products. This is much denser than our original dataset."
   ]
  },
  {
   "cell_type": "markdown",
   "metadata": {},
   "source": [
    "### 3. Build Popularity Recommender model "
   ]
  },
  {
   "cell_type": "code",
   "execution_count": 15,
   "metadata": {},
   "outputs": [],
   "source": [
    "# For popularity based Recommendation System we are only interested in items that are highly rated by most users\n",
    "# so we can use the original sparse dataset for this purpose\n",
    "df2 = df1.copy()"
   ]
  },
  {
   "cell_type": "code",
   "execution_count": 16,
   "metadata": {},
   "outputs": [
    {
     "data": {
      "text/html": [
       "<div>\n",
       "<style scoped>\n",
       "    .dataframe tbody tr th:only-of-type {\n",
       "        vertical-align: middle;\n",
       "    }\n",
       "\n",
       "    .dataframe tbody tr th {\n",
       "        vertical-align: top;\n",
       "    }\n",
       "\n",
       "    .dataframe thead th {\n",
       "        text-align: right;\n",
       "    }\n",
       "</style>\n",
       "<table border=\"1\" class=\"dataframe\">\n",
       "  <thead>\n",
       "    <tr style=\"text-align: right;\">\n",
       "      <th></th>\n",
       "      <th>prod_id</th>\n",
       "      <th>ratings</th>\n",
       "    </tr>\n",
       "  </thead>\n",
       "  <tbody>\n",
       "    <tr>\n",
       "      <th>90638</th>\n",
       "      <td>B0074BW614</td>\n",
       "      <td>1138</td>\n",
       "    </tr>\n",
       "    <tr>\n",
       "      <th>120766</th>\n",
       "      <td>B00DR0PDNE</td>\n",
       "      <td>1094</td>\n",
       "    </tr>\n",
       "    <tr>\n",
       "      <th>95656</th>\n",
       "      <td>B007WTAJTO</td>\n",
       "      <td>883</td>\n",
       "    </tr>\n",
       "    <tr>\n",
       "      <th>31800</th>\n",
       "      <td>B0019EHU8G</td>\n",
       "      <td>774</td>\n",
       "    </tr>\n",
       "    <tr>\n",
       "      <th>87388</th>\n",
       "      <td>B006GWO5WK</td>\n",
       "      <td>770</td>\n",
       "    </tr>\n",
       "  </tbody>\n",
       "</table>\n",
       "</div>"
      ],
      "text/plain": [
       "           prod_id  ratings\n",
       "90638   B0074BW614     1138\n",
       "120766  B00DR0PDNE     1094\n",
       "95656   B007WTAJTO      883\n",
       "31800   B0019EHU8G      774\n",
       "87388   B006GWO5WK      770"
      ]
     },
     "execution_count": 16,
     "metadata": {},
     "output_type": "execute_result"
    }
   ],
   "source": [
    "product_grouped = df2.groupby(['prod_id']).agg({'ratings': 'count'}).reset_index()\n",
    "product_grouped.sort_values(by = 'ratings', ascending = False).head(5)"
   ]
  },
  {
   "cell_type": "markdown",
   "metadata": {},
   "source": [
    "###  4. Split the data randomly into train and test dataset"
   ]
  },
  {
   "cell_type": "code",
   "execution_count": 17,
   "metadata": {},
   "outputs": [],
   "source": [
    "from surprise import Dataset,Reader\n",
    "from surprise.model_selection import cross_validate\n",
    "from surprise import NormalPredictor\n",
    "\n",
    "\n",
    "reader = Reader(rating_scale=(1, 5))"
   ]
  },
  {
   "cell_type": "code",
   "execution_count": 18,
   "metadata": {},
   "outputs": [],
   "source": [
    "# Transform data to Surprise format\n",
    "# Note : columns must correspond to user id, item id and ratings (in that order)\n",
    "\n",
    "data = Dataset.load_from_df(df1_final, reader) \n",
    "# Since i am going to use SVD which can handle sparse data i am using the original sparse datset here"
   ]
  },
  {
   "cell_type": "code",
   "execution_count": 19,
   "metadata": {},
   "outputs": [
    {
     "data": {
      "text/html": [
       "<div>\n",
       "<style scoped>\n",
       "    .dataframe tbody tr th:only-of-type {\n",
       "        vertical-align: middle;\n",
       "    }\n",
       "\n",
       "    .dataframe tbody tr th {\n",
       "        vertical-align: top;\n",
       "    }\n",
       "\n",
       "    .dataframe thead th {\n",
       "        text-align: right;\n",
       "    }\n",
       "</style>\n",
       "<table border=\"1\" class=\"dataframe\">\n",
       "  <thead>\n",
       "    <tr style=\"text-align: right;\">\n",
       "      <th></th>\n",
       "      <th>user_id</th>\n",
       "      <th>prod_id</th>\n",
       "      <th>ratings</th>\n",
       "    </tr>\n",
       "  </thead>\n",
       "  <tbody>\n",
       "    <tr>\n",
       "      <th>16</th>\n",
       "      <td>A36OQE3RAOO63J</td>\n",
       "      <td>B001CZ5BOW</td>\n",
       "      <td>5.0</td>\n",
       "    </tr>\n",
       "    <tr>\n",
       "      <th>26</th>\n",
       "      <td>A2HX3D3MPPASNS</td>\n",
       "      <td>B004I3VZM2</td>\n",
       "      <td>4.0</td>\n",
       "    </tr>\n",
       "    <tr>\n",
       "      <th>39</th>\n",
       "      <td>A15U8KHV4J5DIK</td>\n",
       "      <td>B002BH4QNC</td>\n",
       "      <td>2.0</td>\n",
       "    </tr>\n",
       "    <tr>\n",
       "      <th>64</th>\n",
       "      <td>A3PAYT2SQY7J3H</td>\n",
       "      <td>B002WR7VSS</td>\n",
       "      <td>5.0</td>\n",
       "    </tr>\n",
       "    <tr>\n",
       "      <th>67</th>\n",
       "      <td>A3MLSY6VS7AB8O</td>\n",
       "      <td>B001IBHF5S</td>\n",
       "      <td>5.0</td>\n",
       "    </tr>\n",
       "  </tbody>\n",
       "</table>\n",
       "</div>"
      ],
      "text/plain": [
       "           user_id     prod_id  ratings\n",
       "16  A36OQE3RAOO63J  B001CZ5BOW      5.0\n",
       "26  A2HX3D3MPPASNS  B004I3VZM2      4.0\n",
       "39  A15U8KHV4J5DIK  B002BH4QNC      2.0\n",
       "64  A3PAYT2SQY7J3H  B002WR7VSS      5.0\n",
       "67  A3MLSY6VS7AB8O  B001IBHF5S      5.0"
      ]
     },
     "execution_count": 19,
     "metadata": {},
     "output_type": "execute_result"
    }
   ],
   "source": [
    "data.df.head()"
   ]
  },
  {
   "cell_type": "code",
   "execution_count": 20,
   "metadata": {},
   "outputs": [],
   "source": [
    "# Split the data into train and test\n",
    "\n",
    "from surprise.model_selection import train_test_split\n",
    "\n",
    "trainset, testset = train_test_split(data, test_size=.25)"
   ]
  },
  {
   "cell_type": "markdown",
   "metadata": {},
   "source": [
    "### 5. Build Collaborative Filtering model "
   ]
  },
  {
   "cell_type": "code",
   "execution_count": 21,
   "metadata": {},
   "outputs": [
    {
     "data": {
      "text/plain": [
       "<surprise.prediction_algorithms.matrix_factorization.SVD at 0x7fc4b9bec278>"
      ]
     },
     "execution_count": 21,
     "metadata": {},
     "output_type": "execute_result"
    }
   ],
   "source": [
    "# Train model on SVD\n",
    "\n",
    "from surprise import SVD\n",
    "algo = SVD()\n",
    "algo.fit(trainset)"
   ]
  },
  {
   "cell_type": "code",
   "execution_count": 28,
   "metadata": {},
   "outputs": [],
   "source": [
    "predictions = algo.test(testset)\n",
    "#predictions"
   ]
  },
  {
   "cell_type": "markdown",
   "metadata": {},
   "source": [
    "### 6. Evaluate the above model"
   ]
  },
  {
   "cell_type": "code",
   "execution_count": 23,
   "metadata": {},
   "outputs": [
    {
     "name": "stdout",
     "output_type": "stream",
     "text": [
      "RMSE: 1.1559\n"
     ]
    },
    {
     "data": {
      "text/plain": [
       "1.155914180190888"
      ]
     },
     "execution_count": 23,
     "metadata": {},
     "output_type": "execute_result"
    }
   ],
   "source": [
    "# Test Accuracy of the model\n",
    "\n",
    "from surprise import accuracy\n",
    "accuracy.rmse(predictions)"
   ]
  },
  {
   "cell_type": "code",
   "execution_count": 24,
   "metadata": {},
   "outputs": [
    {
     "name": "stdout",
     "output_type": "stream",
     "text": [
      "Evaluating RMSE, MAE of algorithm SVD on 5 split(s).\n",
      "\n",
      "                  Fold 1  Fold 2  Fold 3  Fold 4  Fold 5  Mean    Std     \n",
      "RMSE (testset)    1.1429  1.1374  1.1309  1.1206  1.1398  1.1343  0.0079  \n",
      "MAE (testset)     0.8714  0.8710  0.8706  0.8667  0.8751  0.8710  0.0027  \n",
      "Fit time          1.80    1.83    1.88    1.82    1.79    1.82    0.03    \n",
      "Test time         0.05    0.06    0.05    0.06    0.05    0.05    0.00    \n"
     ]
    },
    {
     "data": {
      "text/plain": [
       "{'test_rmse': array([1.14289639, 1.13735061, 1.13091856, 1.12063295, 1.13981333]),\n",
       " 'test_mae': array([0.87142913, 0.8709698 , 0.87061174, 0.86673157, 0.87514202]),\n",
       " 'fit_time': (1.7973408699035645,\n",
       "  1.8255510330200195,\n",
       "  1.8772199153900146,\n",
       "  1.8205351829528809,\n",
       "  1.7921407222747803),\n",
       " 'test_time': (0.053236961364746094,\n",
       "  0.056237220764160156,\n",
       "  0.0512850284576416,\n",
       "  0.057540178298950195,\n",
       "  0.050588130950927734)}"
      ]
     },
     "execution_count": 24,
     "metadata": {},
     "output_type": "execute_result"
    }
   ],
   "source": [
    "#  We can also Run 5-fold cross-validation and print results for RMSE and MAE\n",
    "\n",
    "cross_validate(algo, data, measures=['RMSE', 'MAE'], cv=5, verbose=True)"
   ]
  },
  {
   "cell_type": "markdown",
   "metadata": {},
   "source": [
    "### 7. Get top - K ( K = 5) recommendations. Recommend 5 new products"
   ]
  },
  {
   "cell_type": "code",
   "execution_count": 25,
   "metadata": {},
   "outputs": [],
   "source": [
    "from collections import defaultdict\n",
    "\n",
    "def get_top_n(predictions, useridx,  n=5):\n",
    "    \"\"\"Return the top-N recommendation for  user id passed 'useridx' from a set of predictions.\n",
    "\n",
    "    Args:\n",
    "        predictions(list of Prediction objects): The list of predictions, as\n",
    "            returned by the test method of an algorithm.\n",
    "        useridx : User ID for which we are interested to predict recommendtions\n",
    "        n(int): The number of recommendation to output for each user. Default\n",
    "            is 10.\n",
    "\n",
    "    Returns:\n",
    "    A dict where keys are user (raw) id which we pass and values are lists of tuples:\n",
    "        [(raw item id, rating estimation), ...] of size n.\n",
    "    \"\"\"\n",
    "\n",
    "    # First map the predictions to each user.\n",
    "    top_n = defaultdict(list)\n",
    "    for uid, iid, true_r, est, _ in predictions:\n",
    "        if uid == useridx:\n",
    "            top_n[uid].append((iid, est))\n",
    "\n",
    "    # Then sort the predictions for each user and retrieve the k highest ones.\n",
    "    for uid, user_ratings in top_n.items():\n",
    "        user_ratings.sort(key=lambda x: x[1], reverse=True)\n",
    "        top_n[uid] = user_ratings[:n]\n",
    "\n",
    "    return top_n"
   ]
  },
  {
   "cell_type": "code",
   "execution_count": 26,
   "metadata": {},
   "outputs": [
    {
     "data": {
      "text/plain": [
       "defaultdict(list,\n",
       "            {'A680RUE1FDO8B': [('B0019EHU8G', 4.727418794948331),\n",
       "              ('B000RZQZM0', 4.595488643742187),\n",
       "              ('B004ABO7QI', 4.468982238471333),\n",
       "              ('B007YX9O94', 4.465635407694814),\n",
       "              ('B0098G9LHU', 4.342148516403322)]})"
      ]
     },
     "execution_count": 26,
     "metadata": {},
     "output_type": "execute_result"
    }
   ],
   "source": [
    "# pass the user id  and the no of recommendations n=5\n",
    "# use SVN based model\n",
    "uid = 'A680RUE1FDO8B' # user id for which we want to predict top 5 recommendations\n",
    "top_n = get_top_n(predictions,useridx = uid, n= 5)\n",
    "top_n"
   ]
  },
  {
   "cell_type": "code",
   "execution_count": 27,
   "metadata": {},
   "outputs": [
    {
     "data": {
      "text/plain": [
       "defaultdict(list,\n",
       "            {'ADZEWNYAKTAWG': [('B001L1H0SC', 4.490945502580667),\n",
       "              ('B0014KKV7W', 4.198951146393534)]})"
      ]
     },
     "execution_count": 27,
     "metadata": {},
     "output_type": "execute_result"
    }
   ],
   "source": [
    "# pass the user id  and the no of recommendations n=5\n",
    "# use SVN based model\n",
    "uid = 'ADZEWNYAKTAWG' # user id for which we want to predict top 5 recommendations\n",
    "top_n = get_top_n(predictions,useridx = uid, n= 5)\n",
    "top_n"
   ]
  },
  {
   "cell_type": "markdown",
   "metadata": {},
   "source": [
    "### Summarise your insights"
   ]
  },
  {
   "cell_type": "markdown",
   "metadata": {},
   "source": [
    "1. The original dataset was sparse, with a lot of users just rating few items. We made it less sparse/denser by keeping only user records who rated atleast 3 or more products. \n",
    "2. Popularity based recommendation are non-personalized. Every user gets same recommendation. We have listed the top 5 products that are highly rated. These items will be recommended as 'popular items' to all users. This aopproach helps us addrress the cold start problem and is good to start with.\n",
    "3. We created an Matrix Factorization based Collaborative Recommendation System using SVD and Surprise Library. SVD can work well on huge datasets and is better at dealing with sparsity.\n",
    "4. We got RMSE of 1.15 with SVD Model based Collborative Recommendation \n",
    "5. Using the SVD model we are able to recommend  5 products for some users. However, as seen on second example for another user this model was able to predict only two products. The denser our dataset is the better the model would work.\n"
   ]
  },
  {
   "cell_type": "code",
   "execution_count": null,
   "metadata": {},
   "outputs": [],
   "source": []
  }
 ],
 "metadata": {
  "kernelspec": {
   "display_name": "Python 3",
   "language": "python",
   "name": "python3"
  },
  "language_info": {
   "codemirror_mode": {
    "name": "ipython",
    "version": 3
   },
   "file_extension": ".py",
   "mimetype": "text/x-python",
   "name": "python",
   "nbconvert_exporter": "python",
   "pygments_lexer": "ipython3",
   "version": "3.7.2"
  }
 },
 "nbformat": 4,
 "nbformat_minor": 2
}
